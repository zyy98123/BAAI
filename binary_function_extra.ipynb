{
 "cells": [
  {
   "cell_type": "code",
   "id": "42822f6e",
   "metadata": {},
   "source": [
    "# class binary_controler:\n",
    "#     def __init__(self, bin_location, output_location, output_name):\n",
    "#         self.bin_location = bin_location\n",
    "#         self.output_location = output_location\n",
    "#         self.output_name = output_name\n",
    "#         self.cfglist = []\n",
    "        \n",
    "#     def handle_CFG(self):\n",
    "#         self.project = angr.Project(self.bin_location, load_options={'auto_load_libs': False})\n",
    "#         self.cfg = self.project.analyses.CFGFast()\n",
    "        \n",
    "#     def derivate_fun_cfg(self):\n",
    "#         i = 0\n",
    "#         for function_addr, function in self.cfg.kb.functions.items():\n",
    "#             func_cfg = self.project.analyses.CFGFast(force_complete_scan=False, start_at_entry=function_addr, function_prologues=True)\n",
    "#             self.cfglist.append(func_cfg)\n",
    "#             print(function_addr,function)\n",
    "#             i = i + 1\n",
    "#             if (i > 4):\n",
    "#                 break"
   ],
   "outputs": [],
   "execution_count": null
  },
  {
   "cell_type": "code",
   "id": "1b51461d",
   "metadata": {},
   "source": [
    "import angr\n",
    "import networkx as nx\n",
    "from angrutils import *"
   ],
   "outputs": [],
   "execution_count": null
  },
  {
   "cell_type": "code",
   "id": "cb11ee69",
   "metadata": {},
   "source": [
    "# bin_file = binary_controler('/usr/local/binutils/bin/addr2line', '~/PycharmProjects/prakProject/output_CFG', \"CFG\")"
   ],
   "outputs": [],
   "execution_count": null
  },
  {
   "cell_type": "code",
   "id": "efcfe33b",
   "metadata": {},
   "source": [
    "# bin_file.handle_CFG()"
   ],
   "outputs": [],
   "execution_count": null
  },
  {
   "cell_type": "code",
   "id": "0d9b712e",
   "metadata": {},
   "source": [
    "# bin_file.derivate_fun_cfg()"
   ],
   "outputs": [],
   "execution_count": null
  },
  {
   "cell_type": "code",
   "id": "a4100303",
   "metadata": {},
   "source": [
    "# for cfg in bin_file.cfglist:\n",
    "#     plot_cfg(cfg, \"ais3_cfg\", asminst=True, remove_imports=True, remove_path_terminator=True) "
   ],
   "outputs": [],
   "execution_count": null
  },
  {
   "cell_type": "code",
   "id": "f4ff5a2f",
   "metadata": {},
   "source": [
    "# project = angr.Project('/usr/local/binutils/bin/addr2line', load_options={'auto_load_libs': False})\n",
    "# cfg = project.analyses.CFGFast()\n",
    "# for func_addr in cfg.kb.functions:\n",
    "#     func = cfg.kb.functions[func_addr]\n",
    "#     print(func.name)"
   ],
   "outputs": [],
   "execution_count": null
  },
  {
   "cell_type": "code",
   "id": "715f5bf4",
   "metadata": {},
   "source": [
    "# for func_addr in cfg.kb.functions:\n",
    "#     func = cfg.kb.functions[func_addr]\n",
    "#     if (func.name == \"mkstemps\")\n",
    "#     print(func.name)"
   ],
   "outputs": [],
   "execution_count": null
  },
  {
   "cell_type": "code",
   "id": "dbbd955f",
   "metadata": {},
   "source": [
    "# project = angr.Project('/usr/local/binutils/bin/addr2line', load_options={'auto_load_libs': False})\n",
    "# cfg = project.analyses.CFGFast()\n",
    "# function_cfgs = {}\n",
    "\n",
    "# for func_addr in cfg.kb.functions:\n",
    "#     func = cfg.kb.functions[func_addr]\n",
    "#     ## 添加对function用法的判定，备注只有相同的元文件具有相同函数名的函数才能才一起进行测试\n",
    "#     ## 如果node的数量小于3,则不对该函数进行添加\n",
    "#     length = 0\n",
    "#     for _ in func.blocks:\n",
    "#         length = length +1\n",
    "#     if (func.name.startswith('sub_') or length <= 3):\n",
    "#         continue\n",
    "        \n",
    "#     G = nx.DiGraph()\n",
    "    \n",
    "#     blocks = list(func.blocks)\n",
    "    \n",
    "#     for block in blocks:\n",
    "#         G.add_node(block.addr, block = block)\n",
    "\n",
    "#     for block in blocks:\n",
    "#         command = block.disassembly\n",
    "#         instr = command.insns[-1]\n",
    "#         try :\n",
    "#             address = int(instr.op_str,16)\n",
    "#         except ValueError:\n",
    "#             continue\n",
    "#         print(len(successors))\n",
    "#         for succ in successors:\n",
    "#             if succ.addr in G:\n",
    "#                 G.add_edge(block.addr, succ.addr)\n",
    "                \n",
    "#     function_cfgs[func.name] = G"
   ],
   "outputs": [],
   "execution_count": null
  },
  {
   "cell_type": "code",
   "id": "b5fc4dc8",
   "metadata": {
    "scrolled": true
   },
   "source": [
    "project = angr.Project('/usr/local/binutils/bin/addr2line', load_options={'auto_load_libs': False})\n",
    "cfg = project.analyses.CFGFast()\n",
    "function_cfgs = {}"
   ],
   "outputs": [],
   "execution_count": null
  },
  {
   "cell_type": "code",
   "id": "490d7636",
   "metadata": {},
   "source": [
    "for func_addr in cfg.kb.functions:\n",
    "    func = cfg.kb.functions[func_addr]\n",
    "    ## 添加对function用法的判定，备注只有相同的元文件具有相同函数名的函数才能才一起进行测试\n",
    "    ## 如果node的数量小于3,则不对该函数进行添加\n",
    "    length = 0\n",
    "#     for node in func.nodes:\n",
    "#         print(type(node))\n",
    "#     print(type(func))\n",
    "    for _ in func.blocks:\n",
    "        length = length +1\n",
    "    if (func.name.startswith('sub_') or length <= 3 or func.is_syscall):\n",
    "        continue\n",
    "        \n",
    "    G = nx.DiGraph()\n",
    "    \n",
    "    blocks = list(func.blocks)\n",
    "    \n",
    "    for block in blocks:\n",
    "        G.add_node(block.addr, block = block)\n",
    "#         print(type(block.addr))\n",
    "\n",
    "    for block in blocks:\n",
    "        node = cfg.get_any_node(block.addr)\n",
    "        successors = cfg.get_successors(node)\n",
    "#         print(len(successors))\n",
    "        for succ in successors:\n",
    "            if succ.addr in G:\n",
    "                G.add_edge(block.addr, succ.addr)\n",
    "                \n",
    "    function_cfgs[func.name] = G"
   ],
   "outputs": [],
   "execution_count": null
  },
  {
   "cell_type": "code",
   "id": "1c1f35ad",
   "metadata": {},
   "source": [
    "# data_sections = [section for section in project.loader.main_object.sections if section.is_readable and section.name in ['.data', '.rodata']]"
   ],
   "outputs": [],
   "execution_count": null
  },
  {
   "cell_type": "code",
   "id": "00bcd091",
   "metadata": {},
   "source": [
    "# print(type(data_sections[0]))"
   ],
   "outputs": [],
   "execution_count": null
  },
  {
   "cell_type": "code",
   "id": "08aca1c5",
   "metadata": {},
   "source": [
    "# node = cfg.get_any_node(int(\"0x433730\",16))\n",
    "# print(type(node))\n",
    "# print(node.successors)\n",
    "# for i in node.successors:\n",
    "#     print(hex(i.addr))\n",
    "#     print(type(i.addr))  ## test node"
   ],
   "outputs": [],
   "execution_count": null
  },
  {
   "cell_type": "code",
   "id": "1fb78b63",
   "metadata": {},
   "source": [
    "# for name in function_cfgs:\n",
    "#     print(name)  ##show function node"
   ],
   "outputs": [],
   "execution_count": null
  },
  {
   "cell_type": "code",
   "id": "caa69879",
   "metadata": {},
   "source": [
    "# i = 1\n",
    "# for name in function_cfgs:\n",
    "#     i = i + 1\n",
    "#     print(function_cfgs[name].number_of_nodes())\n",
    "#     if(i > 30):\n",
    "#         break"
   ],
   "outputs": [],
   "execution_count": null
  },
  {
   "cell_type": "code",
   "id": "1e6f5e13",
   "metadata": {},
   "source": [
    "def count_string_constants(block):\n",
    "    constants = 0\n",
    "#     print(type(block))\n",
    "    for insn in block.capstone.insns:\n",
    "#         print(type(insn))\n",
    "        for operand in insn.operands:\n",
    "#             print(operand.value)\n",
    "#            print(type(operand))\n",
    "            if operand.type == 2:  # memory.data\n",
    "                mem_addr = operand.mem.disp\n",
    "                try:\n",
    "                    # 尝试将值解释为字符串\n",
    "                    string = project.loader.memory.load(mem_addr, 20).tobytes()\n",
    "                    if is_printable_string(string):\n",
    "                        constants = constants + 1\n",
    "                except:\n",
    "                    continue\n",
    "    return constants\n"
   ],
   "outputs": [],
   "execution_count": null
  },
  {
   "cell_type": "code",
   "id": "c7b2cdc2",
   "metadata": {},
   "source": [
    "def count_num_constants(block):\n",
    "    numeric_constants = 0\n",
    "    for insn in block.capstone.insns:\n",
    "        for operand in insn.operands:\n",
    "            if operand.type == 1:  # Immediate value\n",
    "                numeric_constants += 1\n",
    "    return numeric_constants\n"
   ],
   "outputs": [],
   "execution_count": null
  },
  {
   "cell_type": "code",
   "id": "7c086daf",
   "metadata": {},
   "source": [
    "def count_transfer(block):\n",
    "    transfer_commands = {'jmp', 'je', 'jne', 'jg', 'jge', 'jl', 'jle','ja', 'jae', 'jb', 'jbe',\n",
    "                        'loop', 'loope', 'loopne','jo', 'jno', 'js', 'jns','jp', 'jnp'}\n",
    "    transfers = 0\n",
    "    for insn in block.capstone.insns:\n",
    "        if insn.mnemonic in transfer_commands:\n",
    "            transfers+=1\n",
    "    return transfers"
   ],
   "outputs": [],
   "execution_count": null
  },
  {
   "cell_type": "code",
   "id": "eb8131d0",
   "metadata": {},
   "source": [
    "def count_calls(block):\n",
    "    calls = 0\n",
    "    for insn in block.capstone.insns:\n",
    "        if insn.mnemonic == 'call':\n",
    "            calls+=1\n",
    "    return calls"
   ],
   "outputs": [],
   "execution_count": null
  },
  {
   "cell_type": "code",
   "id": "e293fd64",
   "metadata": {},
   "source": [
    "def count_instructions(block):\n",
    "    return block.size"
   ],
   "outputs": [],
   "execution_count": null
  },
  {
   "cell_type": "code",
   "id": "50307d2f",
   "metadata": {},
   "source": [
    "def count_arithmetic(block):\n",
    "    arithmetic_commands = { ## only include the normalest command\n",
    "        'add', 'sub', 'mul', 'imul', 'div', 'idiv','inc', 'dec', 'neg', 'adc', 'sbb'\n",
    "    }\n",
    "    arithmetics = 0\n",
    "    for insn in block.capstone.insns:\n",
    "        if insn.mnemonic in arithmetic_commands:\n",
    "            arithmetics += 1\n",
    "    \n",
    "    return arithmetics"
   ],
   "outputs": [],
   "execution_count": null
  },
  {
   "cell_type": "code",
   "id": "6150619c",
   "metadata": {},
   "source": [
    "def count_offspring(block_addr, cfg_graph):\n",
    "    visited_node = set()\n",
    "    offsprings = 0\n",
    "    stack = [block_addr]\n",
    "    while stack:\n",
    "        position = stack.pop()\n",
    "        if position not in visited_node:\n",
    "            visited_node.add(position)\n",
    "            for successor in cfg_graph.successors(position):\n",
    "                if successor not in visited_node:\n",
    "                    stack.append(successor)\n",
    "                    offsprings += 1\n",
    "    return offsprings\n",
    "    "
   ],
   "outputs": [],
   "execution_count": null
  },
  {
   "cell_type": "code",
   "id": "03837d6f",
   "metadata": {},
   "source": [
    "def refin(acfg_graph):\n",
    "    new_acfg = nx.DiGraph()\n",
    "    for block_addr in acfg_graph.nodes:\n",
    "        new_acfg.add_node(tuple(acfg_graph.nodes[block_addr]['block_attr']))\n",
    "        \n",
    "    for block_addr_1,block_addr_2 in acfg_graph.edges:\n",
    "        new_acfg.add_edge(tuple(acfg_graph.nodes[block_addr_1]['block_attr']),tuple(acfg_graph.nodes[block_addr_2]['block_attr']))\n",
    "    return new_acfg"
   ],
   "outputs": [],
   "execution_count": null
  },
  {
   "cell_type": "code",
   "id": "54a2b389",
   "metadata": {},
   "source": [
    "## 将提取出的CFG变成ACFG\n",
    "## 依据论文提取的block attribution\n",
    "## \n",
    "def cfg_to_acfg(cfg_graph):\n",
    "    acfg_graph = nx.DiGraph()\n",
    "    for block_addr in cfg_graph.nodes:\n",
    "#         print(type(block))\n",
    "        block = cfg_graph.nodes[block_addr]['block']\n",
    "        block_attr = []\n",
    "        block_attr.append(count_string_constants(block))\n",
    "        block_attr.append(count_num_constants(block))\n",
    "        block_attr.append(count_transfer(block))\n",
    "        block_attr.append(count_calls(block))\n",
    "        block_attr.append(count_instructions(block))\n",
    "        block_attr.append(count_arithmetic(block))\n",
    "        block_attr.append(count_offspring(block_addr, cfg_graph))\n",
    "        acfg_graph.add_node(block_addr, block_attr = block_attr)\n",
    "    for u,v in cfg_graph.edges:\n",
    "        acfg_graph.add_edge(u,v)\n",
    "    blocks_between = nx.betweenness_centrality(cfg_graph)\n",
    "    for block_addr, centrality in blocks_between.items():\n",
    "        acfg_graph.nodes[block_addr]['block_attr'].append(centrality)\n",
    "#         print(acfg_graph.nodes[block_addr]['block_attr'])\n",
    "        \n",
    "    refin_acg = refin(acfg_graph)\n",
    "#     print(refin_acg)\n",
    "    return refin_acg\n",
    "    \n",
    "    \n",
    "    "
   ],
   "outputs": [],
   "execution_count": null
  },
  {
   "cell_type": "code",
   "id": "77dbddb0",
   "metadata": {},
   "source": [
    "graph_list = []\n",
    "name_list = []\n",
    "\n",
    "for name in function_cfgs:\n",
    "    cfg_graph = function_cfgs[name]\n",
    "#     print(type(list(cfg_graph.nodes)[0]))\n",
    "    acfg_graph = cfg_to_acfg(cfg_graph)  ##将cfg变成acfg的运用\n",
    "    graph_list.append(acfg_graph)\n",
    "    name_list.append(name)\n"
   ],
   "outputs": [],
   "execution_count": null
  },
  {
   "cell_type": "code",
   "id": "e23b4d0e",
   "metadata": {},
   "source": [
    "for graph in graph_list:\n",
    "    print(type(graph[1]))\n",
    "    print(type(graph[0])) \n",
    "    print(type(graph[2]))"
   ],
   "outputs": [],
   "execution_count": null
  },
  {
   "cell_type": "code",
   "id": "80b60c5c",
   "metadata": {},
   "source": [
    "import pickle\n",
    "\n",
    "with open(\"./graphs.pkl\", \"wb\") as f:\n",
    "    pickle.dump(graph_list, f)\n",
    "    \n",
    "with open(\"./names.pkl\",\"wb\") as f:\n",
    "    pickle.dump(name_list, f)"
   ],
   "outputs": [],
   "execution_count": null
  },
  {
   "cell_type": "code",
   "id": "c76db103",
   "metadata": {},
   "source": [
    "print(name_list)"
   ],
   "outputs": [],
   "execution_count": null
  },
  {
   "cell_type": "code",
   "id": "7e9d0405",
   "metadata": {},
   "source": [
    "print(graph_list)"
   ],
   "outputs": [],
   "execution_count": null
  },
  {
   "cell_type": "code",
   "id": "483968b2",
   "metadata": {},
   "source": [
    "## 对每个ACFG标记funcion name 和源文件名"
   ],
   "outputs": [],
   "execution_count": null
  },
  {
   "cell_type": "code",
   "id": "4886a6a6",
   "metadata": {},
   "source": [
    "# for name in function_cfgs:\n",
    "#     used_cfg = function_cfgs[name]\n",
    "#     for block_addr in used_cfg:\n",
    "#         block.string = usedc\n",
    "    "
   ],
   "outputs": [],
   "execution_count": null
  },
  {
   "cell_type": "code",
   "id": "7682b9ca",
   "metadata": {},
   "source": [
    "# project = angr.Project('./stringtest2', load_options={'auto_load_libs': False})\n",
    "# cfg = project.analyses.CFGFast()\n",
    "# function_cfgs = {}"
   ],
   "outputs": [],
   "execution_count": null
  },
  {
   "cell_type": "code",
   "id": "64990f49",
   "metadata": {},
   "source": [
    "# for func_addr, func in cfg_2.kb.functions.items():\n",
    "#     if(func.name == 'main'):\n",
    "#         print(f\"Function at {hex(func_addr)}:\")\n",
    "#         # 遍历基本块\n",
    "#         for block in func.blocks:\n",
    "#         # 反汇编基本块\n",
    "#             block.pp()"
   ],
   "outputs": [],
   "execution_count": null
  },
  {
   "cell_type": "code",
   "id": "1f1b0dc6",
   "metadata": {},
   "source": [
    "# print(type(cfg))"
   ],
   "outputs": [],
   "execution_count": null
  }
 ],
 "metadata": {
  "kernelspec": {
   "display_name": "Python 3 (ipykernel)",
   "language": "python",
   "name": "python3"
  },
  "language_info": {
   "codemirror_mode": {
    "name": "ipython",
    "version": 3
   },
   "file_extension": ".py",
   "mimetype": "text/x-python",
   "name": "python",
   "nbconvert_exporter": "python",
   "pygments_lexer": "ipython3",
   "version": "3.11.5"
  }
 },
 "nbformat": 4,
 "nbformat_minor": 5
}
