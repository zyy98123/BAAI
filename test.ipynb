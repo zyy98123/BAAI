{
 "cells": [
  {
   "cell_type": "code",
   "execution_count": 1,
   "id": "ac83b1a7",
   "metadata": {},
   "outputs": [],
   "source": [
    "import torch.nn as nn\n",
    "import torch"
   ]
  },
  {
   "cell_type": "code",
   "execution_count": 4,
   "id": "01c8e15f",
   "metadata": {},
   "outputs": [],
   "source": [
    "a = torch.arange(0, 10)"
   ]
  },
  {
   "cell_type": "code",
   "execution_count": 5,
   "id": "e14fe1ac",
   "metadata": {},
   "outputs": [],
   "source": [
    "b = a.float()"
   ]
  },
  {
   "cell_type": "code",
   "execution_count": 1,
   "id": "44f93278",
   "metadata": {},
   "outputs": [
    {
     "name": "stdout",
     "output_type": "stream",
     "text": [
      "<class 'networkx.classes.digraph.DiGraph'>\n"
     ]
    }
   ],
   "source": [
    "import networkx as nx\n",
    "print(type(nx.DiGraph()))"
   ]
  },
  {
   "cell_type": "code",
   "execution_count": 7,
   "id": "7208baf5",
   "metadata": {},
   "outputs": [
    {
     "data": {
      "text/plain": [
       "tensor([0, 1, 2, 3, 4, 5, 6, 7, 8, 9])"
      ]
     },
     "execution_count": 7,
     "metadata": {},
     "output_type": "execute_result"
    }
   ],
   "source": [
    "a"
   ]
  },
  {
   "cell_type": "code",
   "execution_count": 8,
   "id": "cc9e34f6",
   "metadata": {},
   "outputs": [
    {
     "data": {
      "text/plain": [
       "tensor([[0.],\n",
       "        [1.],\n",
       "        [2.],\n",
       "        [3.],\n",
       "        [4.],\n",
       "        [5.],\n",
       "        [6.],\n",
       "        [7.],\n",
       "        [8.],\n",
       "        [9.]])"
      ]
     },
     "execution_count": 8,
     "metadata": {},
     "output_type": "execute_result"
    }
   ],
   "source": [
    "b.unsqueeze(1)"
   ]
  },
  {
   "cell_type": "code",
   "execution_count": 9,
   "id": "9507cd16",
   "metadata": {},
   "outputs": [],
   "source": [
    "d_model = 100"
   ]
  },
  {
   "cell_type": "code",
   "execution_count": 11,
   "id": "6121408b",
   "metadata": {},
   "outputs": [],
   "source": [
    "import math"
   ]
  },
  {
   "cell_type": "code",
   "execution_count": 13,
   "id": "183e84f2",
   "metadata": {},
   "outputs": [
    {
     "data": {
      "text/plain": [
       "tensor([ 0.,  2.,  4.,  6.,  8., 10., 12., 14., 16., 18., 20., 22., 24., 26.,\n",
       "        28., 30., 32., 34., 36., 38., 40., 42., 44., 46., 48., 50., 52., 54.,\n",
       "        56., 58., 60., 62., 64., 66., 68., 70., 72., 74., 76., 78., 80., 82.,\n",
       "        84., 86., 88., 90., 92., 94., 96., 98.])"
      ]
     },
     "execution_count": 13,
     "metadata": {},
     "output_type": "execute_result"
    }
   ],
   "source": [
    "torch.arange(0, d_model, 2).float() "
   ]
  },
  {
   "cell_type": "code",
   "execution_count": 14,
   "id": "8369a09b",
   "metadata": {},
   "outputs": [
    {
     "data": {
      "text/plain": [
       "0.09210340371976183"
      ]
     },
     "execution_count": 14,
     "metadata": {},
     "output_type": "execute_result"
    }
   ],
   "source": [
    "math.log(10000.0) / d_model"
   ]
  },
  {
   "cell_type": "code",
   "execution_count": 15,
   "id": "7457dd28",
   "metadata": {},
   "outputs": [
    {
     "data": {
      "text/plain": [
       "9.210340371976184"
      ]
     },
     "execution_count": 15,
     "metadata": {},
     "output_type": "execute_result"
    }
   ],
   "source": [
    "math.log(10000.0)"
   ]
  },
  {
   "cell_type": "code",
   "execution_count": 12,
   "id": "ac1abb2c",
   "metadata": {},
   "outputs": [
    {
     "data": {
      "text/plain": [
       "tensor([1.0000e+00, 8.3176e-01, 6.9183e-01, 5.7544e-01, 4.7863e-01, 3.9811e-01,\n",
       "        3.3113e-01, 2.7542e-01, 2.2909e-01, 1.9055e-01, 1.5849e-01, 1.3183e-01,\n",
       "        1.0965e-01, 9.1201e-02, 7.5858e-02, 6.3096e-02, 5.2481e-02, 4.3652e-02,\n",
       "        3.6308e-02, 3.0200e-02, 2.5119e-02, 2.0893e-02, 1.7378e-02, 1.4454e-02,\n",
       "        1.2023e-02, 1.0000e-02, 8.3176e-03, 6.9183e-03, 5.7544e-03, 4.7863e-03,\n",
       "        3.9811e-03, 3.3113e-03, 2.7542e-03, 2.2909e-03, 1.9055e-03, 1.5849e-03,\n",
       "        1.3183e-03, 1.0965e-03, 9.1201e-04, 7.5858e-04, 6.3096e-04, 5.2481e-04,\n",
       "        4.3652e-04, 3.6308e-04, 3.0200e-04, 2.5119e-04, 2.0893e-04, 1.7378e-04,\n",
       "        1.4454e-04, 1.2023e-04])"
      ]
     },
     "execution_count": 12,
     "metadata": {},
     "output_type": "execute_result"
    }
   ],
   "source": [
    "(torch.arange(0, d_model, 2).float() * -(math.log(10000.0) / d_model)).exp()"
   ]
  },
  {
   "cell_type": "code",
   "execution_count": 16,
   "id": "3b6d7a2e",
   "metadata": {},
   "outputs": [
    {
     "data": {
      "text/plain": [
       "tensor([ 2,  6,  8, 10])"
      ]
     },
     "execution_count": 16,
     "metadata": {},
     "output_type": "execute_result"
    }
   ],
   "source": [
    "a = torch.tensor([1,3,4,5])\n",
    "b = torch.tensor([1,3,4,5])\n",
    "a+b"
   ]
  },
  {
   "cell_type": "code",
   "execution_count": 18,
   "id": "5137bd62",
   "metadata": {},
   "outputs": [],
   "source": [
    "a=torch.zeros(1,2,3,4)\n"
   ]
  },
  {
   "cell_type": "code",
   "execution_count": 21,
   "id": "887c4684",
   "metadata": {},
   "outputs": [
    {
     "data": {
      "text/plain": [
       "torch.Size([1, 3, 2, 4])"
      ]
     },
     "execution_count": 21,
     "metadata": {},
     "output_type": "execute_result"
    }
   ],
   "source": [
    "a.transpose(1, 2).contiguous().shape"
   ]
  },
  {
   "cell_type": "code",
   "execution_count": 22,
   "id": "10b0049d",
   "metadata": {},
   "outputs": [
    {
     "data": {
      "text/plain": [
       "Parameter containing:\n",
       "tensor([1., 1., 1., 1., 1.], requires_grad=True)"
      ]
     },
     "execution_count": 22,
     "metadata": {},
     "output_type": "execute_result"
    }
   ],
   "source": [
    "nn.Parameter(torch.ones(5))"
   ]
  },
  {
   "cell_type": "code",
   "execution_count": 26,
   "id": "379c7b70",
   "metadata": {},
   "outputs": [
    {
     "data": {
      "text/plain": [
       "tensor([-1.1560, -0.8257, -0.4954, -0.1651,  0.1651,  0.4954,  0.8257,  1.1560,\n",
       "         1.4863, -1.4863], grad_fn=<AddBackward0>)"
      ]
     },
     "execution_count": 26,
     "metadata": {},
     "output_type": "execute_result"
    }
   ],
   "source": [
    "import torch.nn as nn\n",
    "import torch\n",
    "\n",
    "class LayerNorm(nn.Module):\n",
    "    \"Construct a layernorm module (See citation for details).\"\n",
    "\n",
    "    def __init__(self, features, eps=1e-6):\n",
    "        super(LayerNorm, self).__init__()\n",
    "        self.a_2 = nn.Parameter(torch.ones(features))  # 缩放参数\n",
    "        self.b_2 = nn.Parameter(torch.zeros(features))  # 平移参数\n",
    "        self.eps = eps\n",
    "\n",
    "    def forward(self, x):\n",
    "        mean = x.mean(-1, keepdim=True)\n",
    "        std = x.std(-1, keepdim=True)\n",
    "        # 归一化并应用缩放和平移\n",
    "        return self.a_2 * (x - mean) / (std + self.eps) + self.b_2\n",
    "    \n",
    "normLayer = LayerNorm(10)\n",
    "arry = torch.tensor([1,2,3,4,5,6,7,8,9,0], dtype=torch.float)\n",
    "normLayer(arry)"
   ]
  },
  {
   "cell_type": "code",
   "execution_count": 27,
   "id": "10682b48",
   "metadata": {},
   "outputs": [
    {
     "data": {
      "text/plain": [
       "tensor([[ 1.9231e-01, -7.5936e-01,  7.6216e-01, -2.7099e-01,  1.4829e+00,\n",
       "          1.0880e+00,  2.7063e-01,  1.6318e+00,  1.1484e+00, -4.2952e-01],\n",
       "        [-2.6317e+00,  3.2529e-01,  1.6173e+00, -8.6755e-01,  3.9775e-01,\n",
       "          7.4828e-02, -4.3268e-01,  3.9665e-01,  6.2987e-01,  8.4633e-02],\n",
       "        [-4.1163e-01,  1.4869e+00, -1.2393e+00,  1.6733e+00, -7.8253e-01,\n",
       "         -3.8222e-01, -8.4614e-01, -4.1525e-02, -1.4361e+00, -7.0270e-01],\n",
       "        [ 3.5370e-01,  6.7767e-01,  1.1343e+00,  3.4521e-01,  2.8482e-01,\n",
       "          1.5981e-01, -1.8372e+00, -1.4218e+00, -9.1902e-01,  7.4875e-01],\n",
       "        [-1.0412e+00, -2.1860e-01,  4.3432e-01,  1.1943e+00,  9.0879e-01,\n",
       "         -5.1829e-01,  7.0307e-01, -5.2266e-01, -2.5390e+00,  1.7265e-01],\n",
       "        [ 6.5656e-01, -4.3206e-02, -3.4181e-01, -1.1714e-01,  1.3582e+00,\n",
       "         -1.6198e-01, -6.5091e-01,  4.1445e-02, -1.6852e+00, -4.4734e-01],\n",
       "        [ 1.1310e+00, -6.9064e-01, -1.4170e+00, -1.0436e+00,  4.7621e-01,\n",
       "         -1.2061e-01, -5.5075e-01,  1.3137e-01, -7.9864e-02,  3.8428e-01],\n",
       "        [ 4.8254e-01, -1.7774e+00, -7.7004e-01, -6.0690e-01, -9.4915e-02,\n",
       "         -3.6470e-01, -1.6550e+00, -9.8590e-02,  3.7035e-01,  7.2719e-01],\n",
       "        [ 1.5528e-01, -6.4330e-02, -5.9919e-01, -2.4349e-01,  5.3396e-01,\n",
       "          1.3353e-01,  1.4799e+00, -2.4817e-01, -1.1188e+00,  4.2339e-01],\n",
       "        [ 5.7044e-01, -4.6956e-02,  6.3950e-02,  8.0692e-01, -1.7507e-01,\n",
       "         -1.4221e-02, -2.1497e+00, -9.4905e-01, -1.8987e+00, -3.8062e-01],\n",
       "        [-1.4550e+00,  1.0416e+00,  3.0290e-01,  1.7002e+00, -1.0489e+00,\n",
       "          8.2453e-01, -1.4767e+00,  1.0303e+00,  1.3298e+00, -2.5229e-01],\n",
       "        [ 3.3987e-01, -7.2119e-01,  7.2713e-01,  1.7150e-01, -8.7232e-01,\n",
       "          5.7786e-01,  8.0702e-01, -3.7296e-01, -1.0336e-01,  1.2942e+00],\n",
       "        [-1.6039e+00, -8.2643e-01,  6.1528e-01, -6.8126e-02,  2.6209e+00,\n",
       "          2.0815e+00,  1.9349e-01, -7.8621e-01,  5.9320e-01, -1.8645e-01],\n",
       "        [ 9.2601e-01,  1.1911e+00, -8.3746e-01,  1.9707e-01,  9.6895e-01,\n",
       "          4.8917e-01, -1.2664e+00,  7.8048e-01,  1.3050e+00,  1.2925e+00],\n",
       "        [ 4.9382e-01,  8.8763e-01, -4.7412e-01, -6.5667e-01, -9.0788e-01,\n",
       "          9.6876e-01, -1.4369e+00, -4.3287e-02,  5.2825e-01, -2.2506e-01],\n",
       "        [ 1.4315e+00,  1.8809e+00, -2.3977e-01,  1.4469e+00, -1.1738e+00,\n",
       "         -1.0223e+00, -2.3781e+00,  4.5252e-01, -9.5623e-02, -4.9908e-01],\n",
       "        [ 1.6736e+00, -3.9908e-01,  7.3192e-01,  4.1497e-01,  6.4191e-01,\n",
       "          8.4076e-01, -6.0230e-01, -1.4085e-01, -9.1299e-01, -1.9088e-01],\n",
       "        [ 1.9202e-01, -9.1916e-02,  2.3222e+00, -1.1415e+00,  8.8773e-01,\n",
       "          4.8513e-01, -2.3873e+00,  6.1691e-01, -3.2373e-01, -5.8491e-02],\n",
       "        [-1.3670e+00, -1.3451e+00, -1.1490e+00,  7.6736e-01,  1.1810e+00,\n",
       "          3.4111e-01, -2.8601e-01,  4.7248e-01, -5.0944e-02, -1.9239e+00],\n",
       "        [-5.7699e-01, -2.9344e-01, -4.3379e-01, -1.2974e+00,  6.9916e-01,\n",
       "         -1.0153e+00,  6.8170e-01,  5.8967e-01, -8.4246e-02, -8.3203e-01],\n",
       "        [ 9.3698e-02, -2.5612e-01, -3.6989e-01, -1.1199e+00, -9.0921e-01,\n",
       "          4.1139e-01,  1.6180e+00,  5.1324e-01,  1.7514e+00, -7.1666e-01],\n",
       "        [-4.0505e-01, -9.0739e-01, -2.4126e-01, -1.7722e-01, -8.8387e-01,\n",
       "          3.2989e-02,  1.0319e+00, -6.7691e-01,  2.8013e-01, -1.5571e+00],\n",
       "        [ 8.3816e-02,  1.0943e+00, -1.7538e-03, -1.2958e+00,  1.0393e+00,\n",
       "         -2.2030e+00, -8.2142e-01, -8.7294e-02,  6.6323e-01, -2.0049e+00],\n",
       "        [ 1.6959e+00,  4.6076e-01,  9.3772e-01,  4.2961e-01, -2.6492e-01,\n",
       "          5.9731e-01,  4.6839e-02,  1.5340e+00, -3.7518e-01,  3.4917e-01],\n",
       "        [ 6.5787e-01,  1.0289e+00, -6.7670e-01, -4.2757e-01,  2.5733e+00,\n",
       "          5.8580e-01,  5.3985e-01, -7.4633e-01,  1.2911e+00,  4.0497e-01],\n",
       "        [ 2.1093e-01, -4.8032e-03,  3.7787e-01, -4.7519e-01,  2.0558e+00,\n",
       "         -2.1834e-02,  2.6178e-01, -4.4275e-01, -9.6253e-01, -1.2855e+00],\n",
       "        [ 1.8213e+00,  2.2622e+00, -1.7828e+00, -4.7971e-01, -2.1831e-02,\n",
       "          1.9643e-01,  1.4529e+00, -1.5189e-01, -7.8015e-01, -7.4718e-01],\n",
       "        [ 5.2775e-01,  7.2470e-01, -3.7517e-01,  1.1059e+00,  2.5526e+00,\n",
       "         -5.9843e-01, -5.6621e-01,  2.1277e-01, -1.0907e-01,  1.1892e-01],\n",
       "        [ 6.5323e-01,  3.4868e-01,  8.9330e-02, -1.2618e+00,  5.4345e-01,\n",
       "          4.7596e-01, -5.8185e-01,  6.6830e-02,  9.3801e-03,  4.0019e-01],\n",
       "        [-1.6059e+00,  5.7718e-01,  5.4836e-01,  2.4042e-01,  5.5615e-01,\n",
       "          6.4861e-01,  1.5368e+00, -5.5043e-01,  1.1298e+00, -8.6241e-02],\n",
       "        [ 1.7151e+00, -2.6465e-01,  1.2440e+00,  2.5521e-01, -2.3623e+00,\n",
       "          1.9958e-01,  1.9497e-03, -8.3618e-01,  1.1895e+00,  1.2051e+00],\n",
       "        [-1.4168e+00, -2.0659e-01,  1.6634e+00,  6.3695e-01, -6.4736e-01,\n",
       "          1.1563e-01, -2.2900e+00, -5.0060e-01, -1.0101e+00,  7.8373e-01]])"
      ]
     },
     "execution_count": 27,
     "metadata": {},
     "output_type": "execute_result"
    }
   ],
   "source": [
    "torch.randn(32, 10)"
   ]
  },
  {
   "cell_type": "markdown",
   "id": "4ba767fe",
   "metadata": {},
   "source": [
    "如何写一个训练过程：\n",
    "\n",
    "### 初始化\n",
    "\n",
    "1.cuda_condition = torch.cuda.is_available() and with_cuda\n",
    "        self.device = torch.device(\"cuda:0\" if cuda_condition else \"cpu\")\n",
    "        选择是否使用cuda\n",
    "        \n",
    "2.self.bert = bert\n",
    "        在每次训练以及初始化时，将模型存储在训练类中\n",
    "        \n",
    "3.在外层附加上额外训练用的模型并将模型移动（to）到指定位置\n",
    "self.model = BERTLM(bert, vocab_size).to(self.device)\n",
    "\n",
    "这里model和bert的参数是\n",
    "\n",
    "4.如果可以并行则并行：\n",
    "        if with_cuda and torch.cuda.device_count() > 1:\n",
    "            print(\"Using %d GPUS for BERT\" % torch.cuda.device_count())\n",
    "            self.model = nn.DataParallel(self.model, device_ids=cuda_devices)\n",
    "\n",
    "5.self.train_data = train_dataloader\n",
    "  self.test_data = test_dataloader\n",
    "  存储加载数据的方法\n",
    "  \n",
    "6.self.optim = AdamW(self.model.parameters(), lr=lr, betas=betas, weight_decay=weight_decay)\n",
    "存储优化方法（也可以自己写优化器）  \n",
    "例如：\n",
    "self.optim_schedule = ScheduledOptim(self.optim, self.bert.hidden, n_warmup_steps=warmup_steps)\n",
    "\n",
    "\n",
    "7.\n",
    "##### 这里还不太懂\n",
    "建立存储lossfunction：\n",
    "        self.masked_criterion = nn.NLLLoss(ignore_index=0)\n",
    "        self.dfg_next_criterion = nn.NLLLoss()\n",
    "        self.cfg_next_criterion = nn.NLLLoss()\n",
    "        self.comp_criterion = nn.NLLLoss(ignore_index=0)\n",
    "        self.sentence_bert = nn.NLLLoss()\n",
    "        \n",
    "### 需要包内涵的方法\n",
    "\n",
    "train：调用iteration（进行一次训练） 传入：轮数 Loader bool值训练\n",
    "\n",
    "test：调用iteration（进行一次测试） 传入：轮数 Loader bool值不训练\n",
    "\n",
    "iteration接收：轮数 Loader bool值是否训练\n",
    "\n",
    "\n",
    "\n",
    "save"
   ]
  },
  {
   "cell_type": "code",
   "execution_count": 29,
   "id": "d111d233",
   "metadata": {},
   "outputs": [
    {
     "data": {
      "text/plain": [
       "8"
      ]
     },
     "execution_count": 29,
     "metadata": {},
     "output_type": "execute_result"
    }
   ],
   "source": [
    "import numpy as np\n",
    "np.power(2,3)"
   ]
  },
  {
   "cell_type": "code",
   "execution_count": 28,
   "id": "e0b6816f",
   "metadata": {},
   "outputs": [
    {
     "data": {
      "text/plain": [
       "1"
      ]
     },
     "execution_count": 28,
     "metadata": {},
     "output_type": "execute_result"
    }
   ],
   "source": [
    "torch.cuda.device_count()"
   ]
  },
  {
   "cell_type": "markdown",
   "id": "ccdb82d8",
   "metadata": {},
   "source": [
    "这个表示法提取的是所有序列的第一个位置的向量。假设 x 的形状是 (batch_size, sequence_length, hidden_size)，那么 x[:, 0] 的形状将是 (batch_size, hidden_size)\n",
    "\n",
    "    def forward(self, x):  ## 如果猜的没错的话，应该是对bert输入两个句子，判断此两个句子是否相邻，而且开头为\n",
    "        return self.softmax(self.linear(x[:, 0]))"
   ]
  },
  {
   "metadata": {
    "ExecuteTime": {
     "end_time": "2024-06-18T15:26:59.370092Z",
     "start_time": "2024-06-18T15:26:59.364201Z"
    }
   },
   "cell_type": "code",
   "source": [
    "from torch.utils.data import Dataset, DataLoader\n",
    "import torch\n",
    "\n",
    "\n",
    "class CustomDataset(Dataset):\n",
    "    def __init__(self, data):\n",
    "        self.data = data\n",
    "\n",
    "    def __len__(self):\n",
    "        return len(self.data)\n",
    "\n",
    "    def __getitem__(self, idx):\n",
    "        return self.data[idx]\n",
    "\n",
    "data = [\n",
    "    {\n",
    "        'adj_tensor1': torch.ones(1, 3),\n",
    "        'attr_tensor1': torch.randn(2, 4),\n",
    "        'adj_tensor2': torch.randn(2, 3),\n",
    "        'attr_tensor2': torch.randn(2, 4),\n",
    "        'label': torch.tensor(1.0, dtype=torch.float32)\n",
    "    },\n",
    "    {\n",
    "        'adj_tensor1': torch.ones(1, 3),\n",
    "        'attr_tensor1': torch.randn(2, 4),\n",
    "        'adj_tensor2': torch.randn(2, 3),\n",
    "        'attr_tensor2': torch.randn(2, 4),\n",
    "        'label': torch.tensor(0.0, dtype=torch.float32)\n",
    "    }\n",
    "]\n",
    "\n",
    "dataset = CustomDataset(data)\n",
    "\n",
    "# 使用默认的 collate_fn\n",
    "dataloader = DataLoader(dataset, batch_size=2)\n",
    "\n",
    "# 打印批次数据\n",
    "for batch in dataloader:\n",
    "    print(batch)"
   ],
   "id": "7ba469d4c7befb3b",
   "outputs": [
    {
     "name": "stdout",
     "output_type": "stream",
     "text": [
      "{'adj_tensor1': tensor([[[1., 1., 1.]],\n",
      "\n",
      "        [[1., 1., 1.]]]), 'attr_tensor1': tensor([[[-0.3199,  0.7037,  1.2735, -0.6171],\n",
      "         [ 0.3625, -0.8343, -1.3598,  0.2631]],\n",
      "\n",
      "        [[-0.5888, -0.9932,  0.7368,  1.0732],\n",
      "         [ 2.1365, -0.4453, -0.8843,  0.6156]]]), 'adj_tensor2': tensor([[[-0.3998,  2.2557, -1.2906],\n",
      "         [-0.2718,  2.5890, -0.3614]],\n",
      "\n",
      "        [[-0.4702,  2.1972,  0.1941],\n",
      "         [ 0.3763, -1.3900, -0.7574]]]), 'attr_tensor2': tensor([[[ 1.5776,  0.7897, -0.1836,  1.7336],\n",
      "         [ 1.0250,  0.2822, -2.1653, -1.1733]],\n",
      "\n",
      "        [[ 0.6936, -0.0504, -1.3130, -0.2504],\n",
      "         [-0.7676,  0.5087,  1.3085, -0.4470]]]), 'label': tensor([1., 0.])}\n"
     ]
    }
   ],
   "execution_count": 5
  },
  {
   "metadata": {},
   "cell_type": "code",
   "outputs": [],
   "execution_count": null,
   "source": "",
   "id": "6f35481bff1360a4"
  }
 ],
 "metadata": {
  "kernelspec": {
   "display_name": "Python 3 (ipykernel)",
   "language": "python",
   "name": "python3"
  },
  "language_info": {
   "codemirror_mode": {
    "name": "ipython",
    "version": 3
   },
   "file_extension": ".py",
   "mimetype": "text/x-python",
   "name": "python",
   "nbconvert_exporter": "python",
   "pygments_lexer": "ipython3",
   "version": "3.11.5"
  }
 },
 "nbformat": 4,
 "nbformat_minor": 5
}
