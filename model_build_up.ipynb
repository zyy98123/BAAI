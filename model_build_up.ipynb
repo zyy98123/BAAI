{
 "cells": [
  {
   "cell_type": "code",
   "execution_count": 1,
   "id": "cf2d30e4",
   "metadata": {},
   "outputs": [],
   "source": [
    "import torch\n",
    "import torch.nn as nn"
   ]
  },
  {
   "cell_type": "code",
   "execution_count": 2,
   "id": "687e1007",
   "metadata": {},
   "outputs": [],
   "source": [
    "class GraphEmbeddingNetwork(nn.Module):\n",
    "    def __init__(self, embedded_depth):\n",
    "        \n",
    "        self.embedded_depth = embedded_depth\n",
    "        self.linearW1 = nn.Linear()"
   ]
  }
 ],
 "metadata": {
  "kernelspec": {
   "display_name": "Python 3 (ipykernel)",
   "language": "python",
   "name": "python3"
  },
  "language_info": {
   "codemirror_mode": {
    "name": "ipython",
    "version": 3
   },
   "file_extension": ".py",
   "mimetype": "text/x-python",
   "name": "python",
   "nbconvert_exporter": "python",
   "pygments_lexer": "ipython3",
   "version": "3.11.5"
  }
 },
 "nbformat": 4,
 "nbformat_minor": 5
}
