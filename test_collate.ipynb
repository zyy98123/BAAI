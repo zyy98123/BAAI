{
 "cells": [
  {
   "metadata": {
    "ExecuteTime": {
     "end_time": "2024-06-18T22:00:15.475470Z",
     "start_time": "2024-06-18T22:00:15.473410Z"
    }
   },
   "cell_type": "code",
   "source": [
    "import torch\n",
    "from torch.utils.data import DataLoader, Dataset\n",
    "import torch.nn.functional as F"
   ],
   "id": "ce375bf7c9168d4b",
   "outputs": [],
   "execution_count": 8
  },
  {
   "metadata": {
    "ExecuteTime": {
     "end_time": "2024-06-18T22:00:16.346704Z",
     "start_time": "2024-06-18T22:00:16.343357Z"
    }
   },
   "cell_type": "code",
   "source": [
    "def pad_tensor(tensor, target_shape):\n",
    "    padding = [0]*4\n",
    "    padding[1] = target_shape[1] - tensor.shape[1]\n",
    "    padding[3] = target_shape[0] - tensor.shape[0]\n",
    "    print(padding, tensor.shape)\n",
    "    resul = F.pad(tensor, padding,\"constant\", 0)\n",
    "    print(target_shape,resul.shape)\n",
    "    return resul"
   ],
   "id": "2a4f262c38ad6059",
   "outputs": [],
   "execution_count": 9
  },
  {
   "metadata": {
    "ExecuteTime": {
     "end_time": "2024-06-18T22:00:17.727605Z",
     "start_time": "2024-06-18T22:00:17.722718Z"
    }
   },
   "cell_type": "code",
   "source": [
    "def custom_collate_fn(batch):\n",
    "    # print(batch[0])\n",
    "    # 找到每个张量的最大形状\n",
    "    max_shape = {}\n",
    "    for key in batch[0].keys():\n",
    "        if batch[0][key].dim() > 0:\n",
    "            max_shape[key] = [max(item[key].shape[i] for item in batch) for i in range(2)]\n",
    "            # print(max(item[key].shape[0] for item in batch),max(item[key].shape[1] for item in batch), key)    # 取道了最大的外形，没有问题\n",
    "        # else:\n",
    "            # print(key, batch[0][key].shape)\n",
    "\n",
    "    # for key in max_shape.keys():\n",
    "    #     print(key)\n",
    "    #     print(max_shape[key])\n",
    "    # 对每个样本的每个张量进行填充，并合并到一个批次中\n",
    "    collated_batch = {}\n",
    "    for key in batch[0].keys():\n",
    "        if isinstance(batch[0][key], torch.Tensor) and batch[0][key].dim() > 0:\n",
    "            # for item in batch:\n",
    "            #     for keys in item.keys():\n",
    "                    # print(keys, item[keys].shape)\n",
    "            padded_tensors = []\n",
    "            for item in batch:\n",
    "                padded_tensor = pad_tensor(item[key], max_shape[key])\n",
    "                # print(padded_tensor.shape, max_shape[key])\n",
    "                padded_tensors.append(padded_tensor)\n",
    "            # padded_tensors = [pad_tensor(item[key], max_shape[key]) for item in batch]\n",
    "            # for item in batch:\n",
    "            #     for keys in item.keys():\n",
    "            #         pad_tensor(item[keys], max_shape[keys])\n",
    "            #         print(max_shape[keys])         \n",
    "            # for tensor in padded_tensors:\n",
    "            #     print(key, tensor.shape)\n",
    "            collated_batch[key] = torch.stack(padded_tensors, dim=0)\n",
    "        else:\n",
    "            collated_batch[key] = torch.stack([item[key] for item in batch])\n",
    "    return collated_batch\n",
    "\n",
    "    # for key in batch[0].keys():\n",
    "    #     if key is 'label':\n",
    "    #         max_shape[key] = len(batch[0][key])\n",
    "    #     else:\n",
    "    #         max_shape[key] = [max(item[key].shape[i] for item in batch) for i in range(len(batch[0][key].shape))]\n",
    "    #\n",
    "    # # 对每个样本的每个张量进行填充，并合并到一个批次中\n",
    "    # collated_batch = {}\n",
    "    # for key in batch[0].keys():\n",
    "    #     if 'label' in key:\n",
    "    #         collated_batch[key] = torch.stack([item[key] for item in batch])\n",
    "    #     else:\n",
    "    #         padded_tensors = [pad_tensor(item[key], max_shape[key]) for item in batch]\n",
    "    #         collated_batch[key] = torch.stack(padded_tensors, dim=0)\n"
   ],
   "id": "initial_id",
   "outputs": [],
   "execution_count": 10
  },
  {
   "metadata": {
    "ExecuteTime": {
     "end_time": "2024-06-18T22:00:18.436119Z",
     "start_time": "2024-06-18T22:00:18.433693Z"
    }
   },
   "cell_type": "code",
   "source": [
    "class CustomDataset(Dataset):\n",
    "    def __init__(self, data):\n",
    "        self.data = data\n",
    "\n",
    "    def __len__(self):\n",
    "        return len(self.data)\n",
    "\n",
    "    def __getitem__(self, idx):\n",
    "        return self.data[idx]"
   ],
   "id": "dd4a918eb9d3068e",
   "outputs": [],
   "execution_count": 11
  },
  {
   "metadata": {
    "ExecuteTime": {
     "end_time": "2024-06-18T22:00:19.212712Z",
     "start_time": "2024-06-18T22:00:19.209508Z"
    }
   },
   "cell_type": "code",
   "source": [
    "data = [\n",
    "    {\n",
    "        'adj_tensor1': torch.randn(14, 77),\n",
    "        'attr_tensor1': torch.randn(14, 80),\n",
    "        'adj_tensor2': torch.randn(14, 77),\n",
    "        'attr_tensor2': torch.randn(14, 80),\n",
    "        # 'label': torch.tensor(1.0, dtype=torch.float32)\n",
    "    },\n",
    "    {\n",
    "        'adj_tensor1': torch.randn(10, 81),\n",
    "        'attr_tensor1': torch.randn(10, 85),\n",
    "        'adj_tensor2': torch.randn(10, 81),\n",
    "        'attr_tensor2': torch.randn(10, 85),\n",
    "        # 'label': torch.tensor(0.0, dtype=torch.float32)\n",
    "    },\n",
    "    {\n",
    "        'adj_tensor1': torch.randn(14, 81),\n",
    "        'attr_tensor1': torch.randn(21, 85),\n",
    "        'adj_tensor2': torch.randn(16, 81),\n",
    "        'attr_tensor2': torch.randn(11, 85),\n",
    "        # 'label': torch.tensor(0.0, dtype=torch.float32)\n",
    "    }\n",
    "]"
   ],
   "id": "6bd7daba03bf167b",
   "outputs": [],
   "execution_count": 12
  },
  {
   "metadata": {
    "ExecuteTime": {
     "end_time": "2024-06-18T22:00:21.487045Z",
     "start_time": "2024-06-18T22:00:21.483681Z"
    }
   },
   "cell_type": "code",
   "source": "dataset = CustomDataset(data)",
   "id": "939638c11dfd0582",
   "outputs": [],
   "execution_count": 13
  },
  {
   "metadata": {
    "ExecuteTime": {
     "end_time": "2024-06-18T22:00:23.030915Z",
     "start_time": "2024-06-18T22:00:23.021868Z"
    }
   },
   "cell_type": "code",
   "source": [
    "# 使用自定义的 collate_fn 创建 DataLoader\n",
    "dataloader = DataLoader(dataset, batch_size=3, collate_fn=custom_collate_fn)\n",
    "\n",
    "# 打印批次数据\n",
    "for batch in dataloader:\n",
    "    print(batch)"
   ],
   "id": "efd22abcfe51ec3",
   "outputs": [
    {
     "name": "stdout",
     "output_type": "stream",
     "text": [
      "[0, 4, 0, 0] torch.Size([14, 77])\n",
      "[14, 81] torch.Size([14, 81])\n",
      "[0, 0, 0, 4] torch.Size([10, 81])\n",
      "[14, 81] torch.Size([14, 81])\n",
      "[0, 0, 0, 0] torch.Size([14, 81])\n",
      "[14, 81] torch.Size([14, 81])\n",
      "[0, 5, 0, 7] torch.Size([14, 80])\n",
      "[21, 85] torch.Size([21, 85])\n",
      "[0, 0, 0, 11] torch.Size([10, 85])\n",
      "[21, 85] torch.Size([21, 85])\n",
      "[0, 0, 0, 0] torch.Size([21, 85])\n",
      "[21, 85] torch.Size([21, 85])\n",
      "[0, 4, 0, 2] torch.Size([14, 77])\n",
      "[16, 81] torch.Size([16, 81])\n",
      "[0, 0, 0, 6] torch.Size([10, 81])\n",
      "[16, 81] torch.Size([16, 81])\n",
      "[0, 0, 0, 0] torch.Size([16, 81])\n",
      "[16, 81] torch.Size([16, 81])\n",
      "[0, 5, 0, 0] torch.Size([14, 80])\n",
      "[14, 85] torch.Size([14, 85])\n",
      "[0, 0, 0, 4] torch.Size([10, 85])\n",
      "[14, 85] torch.Size([14, 85])\n",
      "[0, 0, 0, 3] torch.Size([11, 85])\n",
      "[14, 85] torch.Size([14, 85])\n",
      "{'adj_tensor1': tensor([[[-1.3173, -0.7021,  0.0049,  ...,  0.0000,  0.0000,  0.0000],\n",
      "         [ 1.9084,  0.5251,  0.6145,  ...,  0.0000,  0.0000,  0.0000],\n",
      "         [-1.1691, -1.4345, -0.0865,  ...,  0.0000,  0.0000,  0.0000],\n",
      "         ...,\n",
      "         [ 0.8267, -1.4683,  0.8935,  ...,  0.0000,  0.0000,  0.0000],\n",
      "         [-0.2561, -0.2075,  0.4172,  ...,  0.0000,  0.0000,  0.0000],\n",
      "         [ 0.9112, -0.4500, -0.4435,  ...,  0.0000,  0.0000,  0.0000]],\n",
      "\n",
      "        [[-0.0134,  2.0573,  0.4635,  ...,  0.6551,  0.3425,  1.2347],\n",
      "         [ 0.2189, -0.9190,  0.3992,  ..., -1.3084,  0.5653, -0.8924],\n",
      "         [-0.4339, -0.8085, -0.4043,  ...,  0.5713,  0.0306,  0.3781],\n",
      "         ...,\n",
      "         [ 0.0000,  0.0000,  0.0000,  ...,  0.0000,  0.0000,  0.0000],\n",
      "         [ 0.0000,  0.0000,  0.0000,  ...,  0.0000,  0.0000,  0.0000],\n",
      "         [ 0.0000,  0.0000,  0.0000,  ...,  0.0000,  0.0000,  0.0000]],\n",
      "\n",
      "        [[-1.7620,  2.3448, -0.5511,  ..., -0.4346,  0.3097, -1.8295],\n",
      "         [-0.6213, -0.8037, -0.0559,  ...,  2.4368,  1.2645, -0.0256],\n",
      "         [-0.5696, -0.1722, -0.8668,  ..., -1.0793, -0.9760,  1.4331],\n",
      "         ...,\n",
      "         [ 0.2965, -1.1720,  0.4747,  ..., -0.8355,  1.0723, -0.8758],\n",
      "         [ 0.0377,  0.7194, -0.4939,  ..., -1.1967,  0.8991, -0.0370],\n",
      "         [ 0.2874,  0.1823, -2.4820,  ..., -0.4764, -0.3161,  0.5240]]]), 'attr_tensor1': tensor([[[-0.2581,  2.1209,  0.9231,  ...,  0.0000,  0.0000,  0.0000],\n",
      "         [-0.8393,  0.9984, -0.6503,  ...,  0.0000,  0.0000,  0.0000],\n",
      "         [ 0.4885, -0.3686, -0.6076,  ...,  0.0000,  0.0000,  0.0000],\n",
      "         ...,\n",
      "         [ 0.0000,  0.0000,  0.0000,  ...,  0.0000,  0.0000,  0.0000],\n",
      "         [ 0.0000,  0.0000,  0.0000,  ...,  0.0000,  0.0000,  0.0000],\n",
      "         [ 0.0000,  0.0000,  0.0000,  ...,  0.0000,  0.0000,  0.0000]],\n",
      "\n",
      "        [[ 0.7561,  1.2689,  1.2339,  ...,  0.9640, -0.8944, -0.2746],\n",
      "         [ 0.4018,  1.1335, -1.1016,  ...,  0.1076,  1.3006,  0.9544],\n",
      "         [-0.1344,  0.4016, -0.2125,  ..., -0.3110,  0.0558, -0.8493],\n",
      "         ...,\n",
      "         [ 0.0000,  0.0000,  0.0000,  ...,  0.0000,  0.0000,  0.0000],\n",
      "         [ 0.0000,  0.0000,  0.0000,  ...,  0.0000,  0.0000,  0.0000],\n",
      "         [ 0.0000,  0.0000,  0.0000,  ...,  0.0000,  0.0000,  0.0000]],\n",
      "\n",
      "        [[ 0.1687, -0.3805,  0.3613,  ..., -0.9234,  1.0954,  1.3406],\n",
      "         [-0.5746,  1.0846, -1.3598,  ...,  0.5820,  1.1708,  1.3295],\n",
      "         [-0.1804,  0.7506, -1.5933,  ...,  0.0860, -1.4373,  0.6086],\n",
      "         ...,\n",
      "         [-1.7182,  0.5211, -0.9031,  ...,  0.2045,  0.4585,  0.6384],\n",
      "         [-1.3266,  2.4810,  0.7134,  ...,  1.1846, -0.3193, -1.5953],\n",
      "         [-0.0960, -0.7579, -1.3988,  ..., -0.0861,  1.2656,  0.1564]]]), 'adj_tensor2': tensor([[[ 0.0750,  1.8344,  0.5337,  ...,  0.0000,  0.0000,  0.0000],\n",
      "         [-1.3777,  1.6666,  0.1081,  ...,  0.0000,  0.0000,  0.0000],\n",
      "         [ 0.5538, -0.5989, -0.4968,  ...,  0.0000,  0.0000,  0.0000],\n",
      "         ...,\n",
      "         [-2.3304, -1.3988,  0.8870,  ...,  0.0000,  0.0000,  0.0000],\n",
      "         [ 0.0000,  0.0000,  0.0000,  ...,  0.0000,  0.0000,  0.0000],\n",
      "         [ 0.0000,  0.0000,  0.0000,  ...,  0.0000,  0.0000,  0.0000]],\n",
      "\n",
      "        [[ 0.3543,  0.5569,  0.5214,  ...,  0.4324, -2.5138,  1.1364],\n",
      "         [ 0.6566,  1.0821, -1.7855,  ..., -0.3805,  1.6939,  0.6219],\n",
      "         [-0.1978, -0.1038, -0.2222,  ..., -1.9082, -1.9646, -0.2966],\n",
      "         ...,\n",
      "         [ 0.0000,  0.0000,  0.0000,  ...,  0.0000,  0.0000,  0.0000],\n",
      "         [ 0.0000,  0.0000,  0.0000,  ...,  0.0000,  0.0000,  0.0000],\n",
      "         [ 0.0000,  0.0000,  0.0000,  ...,  0.0000,  0.0000,  0.0000]],\n",
      "\n",
      "        [[-0.4185,  0.0145,  0.7189,  ..., -0.3934,  0.5135, -0.5468],\n",
      "         [ 0.2189, -0.5249,  0.4173,  ..., -2.0489,  1.4560, -0.7451],\n",
      "         [ 2.6664, -0.3864,  0.5489,  ...,  1.2150, -0.9104,  1.3412],\n",
      "         ...,\n",
      "         [-1.9938, -0.9116, -0.8980,  ...,  2.1723,  2.6041,  0.0292],\n",
      "         [-0.7345,  1.4358,  2.1429,  ...,  1.5494,  0.9060, -0.7286],\n",
      "         [-0.6037,  0.2045,  0.5837,  ..., -0.1411, -0.4488,  0.3097]]]), 'attr_tensor2': tensor([[[-0.0681,  0.0137,  0.5788,  ...,  0.0000,  0.0000,  0.0000],\n",
      "         [ 0.6134, -0.2015, -0.4425,  ...,  0.0000,  0.0000,  0.0000],\n",
      "         [ 0.8455, -1.0304, -0.5967,  ...,  0.0000,  0.0000,  0.0000],\n",
      "         ...,\n",
      "         [ 0.5776,  0.8073, -0.2944,  ...,  0.0000,  0.0000,  0.0000],\n",
      "         [ 0.8387,  0.2133,  0.7897,  ...,  0.0000,  0.0000,  0.0000],\n",
      "         [ 0.8185,  0.6293,  1.0167,  ...,  0.0000,  0.0000,  0.0000]],\n",
      "\n",
      "        [[ 1.1947,  0.8484,  0.2735,  ...,  0.4154,  0.9030, -1.3264],\n",
      "         [ 0.3003, -0.3480, -1.0209,  ...,  0.8720,  1.4553,  0.9205],\n",
      "         [ 1.5773,  1.0996,  0.1455,  ...,  0.2265,  0.8692,  0.4105],\n",
      "         ...,\n",
      "         [ 0.0000,  0.0000,  0.0000,  ...,  0.0000,  0.0000,  0.0000],\n",
      "         [ 0.0000,  0.0000,  0.0000,  ...,  0.0000,  0.0000,  0.0000],\n",
      "         [ 0.0000,  0.0000,  0.0000,  ...,  0.0000,  0.0000,  0.0000]],\n",
      "\n",
      "        [[-0.8626,  0.3486,  0.7671,  ...,  1.8513,  0.2007, -1.1237],\n",
      "         [-0.8452, -1.8279,  0.4341,  ..., -0.7861,  0.3558, -1.3292],\n",
      "         [ 0.6728, -3.1778,  0.0872,  ...,  2.4373,  1.9077,  0.4273],\n",
      "         ...,\n",
      "         [ 0.0000,  0.0000,  0.0000,  ...,  0.0000,  0.0000,  0.0000],\n",
      "         [ 0.0000,  0.0000,  0.0000,  ...,  0.0000,  0.0000,  0.0000],\n",
      "         [ 0.0000,  0.0000,  0.0000,  ...,  0.0000,  0.0000,  0.0000]]])}\n"
     ]
    }
   ],
   "execution_count": 14
  },
  {
   "metadata": {},
   "cell_type": "code",
   "source": [
    "a = torch.ones((14, 77), dtype=torch.float32)\n",
    "test = pad_tensor(a, (21, 85))"
   ],
   "id": "d424dd51ea9e4be6",
   "outputs": [],
   "execution_count": null
  },
  {
   "metadata": {},
   "cell_type": "code",
   "source": "test.shape",
   "id": "641bd77fadfce81e",
   "outputs": [],
   "execution_count": null
  }
 ],
 "metadata": {
  "kernelspec": {
   "display_name": "Python 3",
   "language": "python",
   "name": "python3"
  },
  "language_info": {
   "codemirror_mode": {
    "name": "ipython",
    "version": 2
   },
   "file_extension": ".py",
   "mimetype": "text/x-python",
   "name": "python",
   "nbconvert_exporter": "python",
   "pygments_lexer": "ipython2",
   "version": "2.7.6"
  }
 },
 "nbformat": 4,
 "nbformat_minor": 5
}
