{
 "cells": [
  {
   "metadata": {
    "ExecuteTime": {
     "end_time": "2024-07-06T19:59:54.641235Z",
     "start_time": "2024-07-06T19:59:53.126627Z"
    }
   },
   "cell_type": "code",
   "source": [
    "import dataset\n",
    "import trainner\n",
    "import model\n",
    "import lossfunction"
   ],
   "id": "6d3cd0ad572e7e74",
   "outputs": [
    {
     "ename": "ModuleNotFoundError",
     "evalue": "No module named 'prediction'",
     "output_type": "error",
     "traceback": [
      "\u001B[0;31m---------------------------------------------------------------------------\u001B[0m",
      "\u001B[0;31mModuleNotFoundError\u001B[0m                       Traceback (most recent call last)",
      "Cell \u001B[0;32mIn[1], line 2\u001B[0m\n\u001B[1;32m      1\u001B[0m \u001B[38;5;28;01mimport\u001B[39;00m \u001B[38;5;21;01mdataset\u001B[39;00m\n\u001B[0;32m----> 2\u001B[0m \u001B[38;5;28;01mimport\u001B[39;00m \u001B[38;5;21;01mtrainner\u001B[39;00m\n\u001B[1;32m      3\u001B[0m \u001B[38;5;28;01mimport\u001B[39;00m \u001B[38;5;21;01mmodel\u001B[39;00m\n\u001B[1;32m      4\u001B[0m \u001B[38;5;28;01mimport\u001B[39;00m \u001B[38;5;21;01mlossfunction\u001B[39;00m\n",
      "File \u001B[0;32m~/PycharmProjects/final_project_file/BAAI/trainner.py:12\u001B[0m\n\u001B[1;32m     10\u001B[0m \u001B[38;5;28;01mimport\u001B[39;00m \u001B[38;5;21;01mmodel\u001B[39;00m\n\u001B[1;32m     11\u001B[0m \u001B[38;5;28;01mimport\u001B[39;00m \u001B[38;5;21;01mlossfunction\u001B[39;00m\n\u001B[0;32m---> 12\u001B[0m \u001B[38;5;28;01mimport\u001B[39;00m \u001B[38;5;21;01mprediction\u001B[39;00m\n\u001B[1;32m     14\u001B[0m \u001B[38;5;28;01mclass\u001B[39;00m \u001B[38;5;21;01mTrainer\u001B[39;00m():\n\u001B[1;32m     15\u001B[0m     \u001B[38;5;28;01mdef\u001B[39;00m \u001B[38;5;21m__init__\u001B[39m(\u001B[38;5;28mself\u001B[39m, GEN: model\u001B[38;5;241m.\u001B[39mGraphEmbeddingNetwork, GENdataLoader: DataLoader, test_dataloader: DataLoader \u001B[38;5;241m=\u001B[39m \u001B[38;5;28;01mNone\u001B[39;00m,\n\u001B[1;32m     16\u001B[0m                  lr: \u001B[38;5;28mfloat\u001B[39m \u001B[38;5;241m=\u001B[39m \u001B[38;5;241m1e-6\u001B[39m, betas\u001B[38;5;241m=\u001B[39m(\u001B[38;5;241m0.9\u001B[39m, \u001B[38;5;241m0.999\u001B[39m), with_cuda\u001B[38;5;241m=\u001B[39m\u001B[38;5;28;01mTrue\u001B[39;00m, cuda_devices\u001B[38;5;241m=\u001B[39m\u001B[38;5;28;01mNone\u001B[39;00m, log_freq: \u001B[38;5;28mint\u001B[39m \u001B[38;5;241m=\u001B[39m \u001B[38;5;241m5\u001B[39m, lossFunction \u001B[38;5;241m=\u001B[39m lossfunction\u001B[38;5;241m.\u001B[39mCosSimLoss()):\n\u001B[1;32m     17\u001B[0m         \u001B[38;5;66;03m# test if cuda could be used\u001B[39;00m\n",
      "\u001B[0;31mModuleNotFoundError\u001B[0m: No module named 'prediction'"
     ]
    }
   ],
   "execution_count": 1
  },
  {
   "metadata": {
    "ExecuteTime": {
     "end_time": "2024-07-04T21:19:01.654965Z",
     "start_time": "2024-07-04T21:19:01.652503Z"
    }
   },
   "cell_type": "code",
   "source": [
    "import torch\n",
    "import torch.nn as nn\n",
    "import torch.nn.functional as F\n",
    "from torch.autograd import Variable\n",
    "from torch.utils.data import Dataset, DataLoader"
   ],
   "id": "a1a52b271ff56da8",
   "outputs": [],
   "execution_count": 2
  },
  {
   "metadata": {
    "ExecuteTime": {
     "end_time": "2024-07-04T21:19:02.426403Z",
     "start_time": "2024-07-04T21:19:02.424061Z"
    }
   },
   "cell_type": "code",
   "source": [
    "\n",
    "spread_times = 3\n",
    "embedded_depth = 2  # at least 1\n",
    "vector_size = 8\n",
    "embedding_size = 64\n",
    "batch_size = 64"
   ],
   "id": "ad8e5949841ced4c",
   "outputs": [],
   "execution_count": 3
  },
  {
   "metadata": {
    "ExecuteTime": {
     "end_time": "2024-07-04T21:19:03.149058Z",
     "start_time": "2024-07-04T21:19:03.146717Z"
    }
   },
   "cell_type": "code",
   "source": [
    "train_dataset = \"data/training\"\n",
    "test_dataset = \"data/test\"\n",
    "output_path = \"output/parameter.model\""
   ],
   "id": "33b6a082569cd6ff",
   "outputs": [],
   "execution_count": 4
  },
  {
   "metadata": {
    "ExecuteTime": {
     "end_time": "2024-07-04T21:19:03.876067Z",
     "start_time": "2024-07-04T21:19:03.873545Z"
    }
   },
   "cell_type": "code",
   "source": [
    "data = dataset.GraphDataset(train_dataset)"
   ],
   "id": "72427de269da7ea7",
   "outputs": [],
   "execution_count": 5
  },
  {
   "metadata": {
    "ExecuteTime": {
     "end_time": "2024-07-04T21:19:04.603777Z",
     "start_time": "2024-07-04T21:19:04.601002Z"
    }
   },
   "cell_type": "code",
   "source": [
    "print(\"Creating Dataset\")\n",
    "train_dataset = dataset.GraphDataset(train_dataset)\n",
    "test_dataset = dataset.GraphDataset(test_dataset) if test_dataset is not None else None"
   ],
   "id": "f57ebbeee6db7f72",
   "outputs": [
    {
     "name": "stdout",
     "output_type": "stream",
     "text": [
      "Creating Dataset\n"
     ]
    }
   ],
   "execution_count": 6
  },
  {
   "metadata": {
    "ExecuteTime": {
     "end_time": "2024-07-04T21:19:05.486199Z",
     "start_time": "2024-07-04T21:19:05.482469Z"
    }
   },
   "cell_type": "code",
   "source": [
    "print(\"Creating Dataloader\")\n",
    "train_data_loader = DataLoader(train_dataset, batch_size=batch_size, num_workers=0, collate_fn=dataset.custom_collate_fn, shuffle=True)\n",
    "test_data_loader = DataLoader(test_dataset, batch_size=batch_size, num_workers=10, collate_fn=dataset.custom_collate_fn, shuffle=True) \\\n",
    "    if test_dataset is not None else None"
   ],
   "id": "b482e350a94f096a",
   "outputs": [
    {
     "name": "stdout",
     "output_type": "stream",
     "text": [
      "Creating Dataloader\n"
     ]
    }
   ],
   "execution_count": 7
  },
  {
   "metadata": {
    "ExecuteTime": {
     "end_time": "2024-07-04T21:19:06.785106Z",
     "start_time": "2024-07-04T21:19:06.779763Z"
    }
   },
   "cell_type": "code",
   "source": [
    "print(\"Building model\")\n",
    "try:\n",
    "    model = model.GraphEmbeddingNetwork(spread_times, embedded_depth, vector_size, embedding_size)\n",
    "    print(\"Model built successfully\")\n",
    "except Exception as e:\n",
    "    print(\"Error occurred while building the model:\", str(e))\n"
   ],
   "id": "e41364645e30dcd5",
   "outputs": [
    {
     "name": "stdout",
     "output_type": "stream",
     "text": [
      "Building model\n",
      "Model built successfully\n"
     ]
    }
   ],
   "execution_count": 8
  },
  {
   "metadata": {
    "ExecuteTime": {
     "end_time": "2024-07-04T21:19:09.634756Z",
     "start_time": "2024-07-04T21:19:07.941174Z"
    }
   },
   "cell_type": "code",
   "source": [
    "print(\"Creating Trainer\")\n",
    "train_model = trainner.Trainer(model, train_data_loader, test_data_loader, lossFunction=lossfunction.MarginLoss())"
   ],
   "id": "600fe69f29ed53e1",
   "outputs": [
    {
     "name": "stdout",
     "output_type": "stream",
     "text": [
      "Creating Trainer\n",
      "CUDA available: True\n",
      "Total Parameters: 13056\n"
     ]
    }
   ],
   "execution_count": 9
  },
  {
   "metadata": {
    "ExecuteTime": {
     "end_time": "2024-07-04T21:19:15.211346Z",
     "start_time": "2024-07-04T21:19:11.136893Z"
    }
   },
   "cell_type": "code",
   "source": [
    "loss_figure = []\n",
    "print(\"Training Start\")\n",
    "epochs = 30\n",
    "for epoch in range(epochs):\n",
    "    epoch_loss= train_model.train(epoch, batch_size)\n",
    "    print(type(epoch_loss))\n",
    "    loss_figure.append(sum(epoch_loss) / len(epoch_loss))\n",
    "    train_model.save(epoch, output_path)"
   ],
   "id": "38c053ee98e4e07c",
   "outputs": [
    {
     "name": "stdout",
     "output_type": "stream",
     "text": [
      "Training Start\n"
     ]
    },
    {
     "name": "stderr",
     "output_type": "stream",
     "text": [
      "EP_train:0: 100%|| 3/3 [00:00<00:00, 13.28it/s, epoch=0, iter=2, loss:=0.00476] \n"
     ]
    },
    {
     "name": "stdout",
     "output_type": "stream",
     "text": [
      "<class 'list'>\n",
      "EP:0 Model Saved on: output/parameter.model.ep0\n"
     ]
    },
    {
     "name": "stderr",
     "output_type": "stream",
     "text": [
      "EP_train:1: 100%|| 3/3 [00:00<00:00, 14.68it/s, epoch=1, iter=2, loss:=0.00416]\n"
     ]
    },
    {
     "name": "stdout",
     "output_type": "stream",
     "text": [
      "<class 'list'>\n",
      "EP:1 Model Saved on: output/parameter.model.ep1\n"
     ]
    },
    {
     "name": "stderr",
     "output_type": "stream",
     "text": [
      "EP_train:2: 100%|| 3/3 [00:00<00:00, 24.69it/s, epoch=2, iter=2, loss:=0.000592]\n"
     ]
    },
    {
     "name": "stdout",
     "output_type": "stream",
     "text": [
      "<class 'list'>\n",
      "EP:2 Model Saved on: output/parameter.model.ep2\n"
     ]
    },
    {
     "name": "stderr",
     "output_type": "stream",
     "text": [
      "EP_train:3: 100%|| 3/3 [00:00<00:00, 22.92it/s, epoch=3, iter=2, loss:=0.000592]\n"
     ]
    },
    {
     "name": "stdout",
     "output_type": "stream",
     "text": [
      "<class 'list'>\n",
      "EP:3 Model Saved on: output/parameter.model.ep3\n"
     ]
    },
    {
     "name": "stderr",
     "output_type": "stream",
     "text": [
      "EP_train:4: 100%|| 3/3 [00:00<00:00, 22.14it/s, epoch=4, iter=2, loss:=518]     \n"
     ]
    },
    {
     "name": "stdout",
     "output_type": "stream",
     "text": [
      "<class 'list'>\n",
      "EP:4 Model Saved on: output/parameter.model.ep4\n"
     ]
    },
    {
     "name": "stderr",
     "output_type": "stream",
     "text": [
      "EP_train:5: 100%|| 3/3 [00:00<00:00, 22.30it/s, epoch=5, iter=2, loss:=0.00059] \n"
     ]
    },
    {
     "name": "stdout",
     "output_type": "stream",
     "text": [
      "<class 'list'>\n",
      "EP:5 Model Saved on: output/parameter.model.ep5\n"
     ]
    },
    {
     "name": "stderr",
     "output_type": "stream",
     "text": [
      "EP_train:6: 100%|| 3/3 [00:00<00:00, 21.75it/s, epoch=6, iter=2, loss:=0.000589]\n"
     ]
    },
    {
     "name": "stdout",
     "output_type": "stream",
     "text": [
      "<class 'list'>\n",
      "EP:6 Model Saved on: output/parameter.model.ep6\n"
     ]
    },
    {
     "name": "stderr",
     "output_type": "stream",
     "text": [
      "EP_train:7: 100%|| 3/3 [00:00<00:00, 21.97it/s, epoch=7, iter=2, loss:=1.04e-9]\n"
     ]
    },
    {
     "name": "stdout",
     "output_type": "stream",
     "text": [
      "<class 'list'>\n",
      "EP:7 Model Saved on: output/parameter.model.ep7\n"
     ]
    },
    {
     "name": "stderr",
     "output_type": "stream",
     "text": [
      "EP_train:8: 100%|| 3/3 [00:00<00:00, 25.55it/s, epoch=8, iter=2, loss:=0.000587]\n"
     ]
    },
    {
     "name": "stdout",
     "output_type": "stream",
     "text": [
      "<class 'list'>\n",
      "EP:8 Model Saved on: output/parameter.model.ep8\n"
     ]
    },
    {
     "name": "stderr",
     "output_type": "stream",
     "text": [
      "EP_train:9: 100%|| 3/3 [00:00<00:00, 21.33it/s, epoch=9, iter=2, loss:=0.00409] \n"
     ]
    },
    {
     "name": "stdout",
     "output_type": "stream",
     "text": [
      "<class 'list'>\n",
      "EP:9 Model Saved on: output/parameter.model.ep9\n"
     ]
    },
    {
     "name": "stderr",
     "output_type": "stream",
     "text": [
      "EP_train:10: 100%|| 3/3 [00:00<00:00, 26.22it/s, epoch=10, iter=2, loss:=9.09e-10]\n"
     ]
    },
    {
     "name": "stdout",
     "output_type": "stream",
     "text": [
      "<class 'list'>\n",
      "EP:10 Model Saved on: output/parameter.model.ep10\n"
     ]
    },
    {
     "name": "stderr",
     "output_type": "stream",
     "text": [
      "EP_train:11: 100%|| 3/3 [00:00<00:00, 24.33it/s, epoch=11, iter=2, loss:=0.00466] \n"
     ]
    },
    {
     "name": "stdout",
     "output_type": "stream",
     "text": [
      "<class 'list'>\n",
      "EP:11 Model Saved on: output/parameter.model.ep11\n"
     ]
    },
    {
     "name": "stderr",
     "output_type": "stream",
     "text": [
      "EP_train:12: 100%|| 3/3 [00:00<00:00, 22.02it/s, epoch=12, iter=2, loss:=8.68e-10]\n"
     ]
    },
    {
     "name": "stdout",
     "output_type": "stream",
     "text": [
      "<class 'list'>\n",
      "EP:12 Model Saved on: output/parameter.model.ep12\n"
     ]
    },
    {
     "name": "stderr",
     "output_type": "stream",
     "text": [
      "EP_train:13: 100%|| 3/3 [00:00<00:00, 23.59it/s, epoch=13, iter=2, loss:=1.17e-9] \n"
     ]
    },
    {
     "name": "stdout",
     "output_type": "stream",
     "text": [
      "<class 'list'>\n",
      "EP:13 Model Saved on: output/parameter.model.ep13\n"
     ]
    },
    {
     "name": "stderr",
     "output_type": "stream",
     "text": [
      "EP_train:14: 100%|| 3/3 [00:00<00:00, 26.81it/s, epoch=14, iter=2, loss:=3.23e+4]\n"
     ]
    },
    {
     "name": "stdout",
     "output_type": "stream",
     "text": [
      "<class 'list'>\n",
      "EP:14 Model Saved on: output/parameter.model.ep14\n"
     ]
    },
    {
     "name": "stderr",
     "output_type": "stream",
     "text": [
      "EP_train:15: 100%|| 3/3 [00:00<00:00, 23.17it/s, epoch=15, iter=2, loss:=0.00058]\n"
     ]
    },
    {
     "name": "stdout",
     "output_type": "stream",
     "text": [
      "<class 'list'>\n",
      "EP:15 Model Saved on: output/parameter.model.ep15\n"
     ]
    },
    {
     "name": "stderr",
     "output_type": "stream",
     "text": [
      "EP_train:16: 100%|| 3/3 [00:00<00:00, 25.18it/s, epoch=16, iter=2, loss:=5.16e-10]\n"
     ]
    },
    {
     "name": "stdout",
     "output_type": "stream",
     "text": [
      "<class 'list'>\n",
      "EP:16 Model Saved on: output/parameter.model.ep16\n"
     ]
    },
    {
     "name": "stderr",
     "output_type": "stream",
     "text": [
      "EP_train:17: 100%|| 3/3 [00:00<00:00, 25.48it/s, epoch=17, iter=2, loss:=0.00461]\n"
     ]
    },
    {
     "name": "stdout",
     "output_type": "stream",
     "text": [
      "<class 'list'>\n",
      "EP:17 Model Saved on: output/parameter.model.ep17\n"
     ]
    },
    {
     "name": "stderr",
     "output_type": "stream",
     "text": [
      "EP_train:18: 100%|| 3/3 [00:00<00:00, 27.98it/s, epoch=18, iter=2, loss:=0.00402] \n"
     ]
    },
    {
     "name": "stdout",
     "output_type": "stream",
     "text": [
      "<class 'list'>\n",
      "EP:18 Model Saved on: output/parameter.model.ep18\n"
     ]
    },
    {
     "name": "stderr",
     "output_type": "stream",
     "text": [
      "EP_train:19: 100%|| 3/3 [00:00<00:00, 25.65it/s, epoch=19, iter=2, loss:=5.16e-10]\n"
     ]
    },
    {
     "name": "stdout",
     "output_type": "stream",
     "text": [
      "<class 'list'>\n",
      "EP:19 Model Saved on: output/parameter.model.ep19\n"
     ]
    },
    {
     "name": "stderr",
     "output_type": "stream",
     "text": [
      "EP_train:20: 100%|| 3/3 [00:00<00:00, 20.96it/s, epoch=20, iter=2, loss:=6.13e-10]\n"
     ]
    },
    {
     "name": "stdout",
     "output_type": "stream",
     "text": [
      "<class 'list'>\n",
      "EP:20 Model Saved on: output/parameter.model.ep20\n"
     ]
    },
    {
     "name": "stderr",
     "output_type": "stream",
     "text": [
      "EP_train:21: 100%|| 3/3 [00:00<00:00, 20.37it/s, epoch=21, iter=2, loss:=5.47e-10]\n"
     ]
    },
    {
     "name": "stdout",
     "output_type": "stream",
     "text": [
      "<class 'list'>\n",
      "EP:21 Model Saved on: output/parameter.model.ep21\n"
     ]
    },
    {
     "name": "stderr",
     "output_type": "stream",
     "text": [
      "EP_train:22: 100%|| 3/3 [00:00<00:00, 26.59it/s, epoch=22, iter=2, loss:=0.000574]\n"
     ]
    },
    {
     "name": "stdout",
     "output_type": "stream",
     "text": [
      "<class 'list'>\n",
      "EP:22 Model Saved on: output/parameter.model.ep22\n"
     ]
    },
    {
     "name": "stderr",
     "output_type": "stream",
     "text": [
      "EP_train:23: 100%|| 3/3 [00:00<00:00, 26.40it/s, epoch=23, iter=2, loss:=0.00398] \n"
     ]
    },
    {
     "name": "stdout",
     "output_type": "stream",
     "text": [
      "<class 'list'>\n",
      "EP:23 Model Saved on: output/parameter.model.ep23\n"
     ]
    },
    {
     "name": "stderr",
     "output_type": "stream",
     "text": [
      "EP_train:24: 100%|| 3/3 [00:00<00:00, 25.12it/s, epoch=24, iter=2, loss:=0.00397] \n"
     ]
    },
    {
     "name": "stdout",
     "output_type": "stream",
     "text": [
      "<class 'list'>\n",
      "EP:24 Model Saved on: output/parameter.model.ep24\n"
     ]
    },
    {
     "name": "stderr",
     "output_type": "stream",
     "text": [
      "EP_train:25: 100%|| 3/3 [00:00<00:00, 26.29it/s, epoch=25, iter=2, loss:=0.000572]\n"
     ]
    },
    {
     "name": "stdout",
     "output_type": "stream",
     "text": [
      "<class 'list'>\n",
      "EP:25 Model Saved on: output/parameter.model.ep25\n"
     ]
    },
    {
     "name": "stderr",
     "output_type": "stream",
     "text": [
      "EP_train:26: 100%|| 3/3 [00:00<00:00, 25.39it/s, epoch=26, iter=2, loss:=0.000571]\n"
     ]
    },
    {
     "name": "stdout",
     "output_type": "stream",
     "text": [
      "<class 'list'>\n",
      "EP:26 Model Saved on: output/parameter.model.ep26\n"
     ]
    },
    {
     "name": "stderr",
     "output_type": "stream",
     "text": [
      "EP_train:27: 100%|| 3/3 [00:00<00:00, 21.58it/s, epoch=27, iter=2, loss:=0.00452] \n"
     ]
    },
    {
     "name": "stdout",
     "output_type": "stream",
     "text": [
      "<class 'list'>\n",
      "EP:27 Model Saved on: output/parameter.model.ep27\n"
     ]
    },
    {
     "name": "stderr",
     "output_type": "stream",
     "text": [
      "EP_train:28: 100%|| 3/3 [00:00<00:00, 26.67it/s, epoch=28, iter=2, loss:=1.14e+4]\n"
     ]
    },
    {
     "name": "stdout",
     "output_type": "stream",
     "text": [
      "<class 'list'>\n",
      "EP:28 Model Saved on: output/parameter.model.ep28\n"
     ]
    },
    {
     "name": "stderr",
     "output_type": "stream",
     "text": [
      "EP_train:29: 100%|| 3/3 [00:00<00:00, 24.77it/s, epoch=29, iter=2, loss:=0.00393] "
     ]
    },
    {
     "name": "stdout",
     "output_type": "stream",
     "text": [
      "<class 'list'>\n",
      "EP:29 Model Saved on: output/parameter.model.ep29\n"
     ]
    },
    {
     "name": "stderr",
     "output_type": "stream",
     "text": [
      "\n"
     ]
    }
   ],
   "execution_count": 10
  },
  {
   "metadata": {
    "ExecuteTime": {
     "end_time": "2024-07-04T21:27:22.808713Z",
     "start_time": "2024-07-04T21:27:22.484953Z"
    }
   },
   "cell_type": "code",
   "source": [
    "import matplotlib.pyplot as plt\n",
    "plt.figure()\n",
    "plt.plot(range(epochs), loss_figure, label='Training Loss')\n",
    "plt.xlabel('Epoch')\n",
    "plt.ylabel('Loss')\n",
    "plt.title('Training Loss over Epochs')\n",
    "plt.legend()\n",
    "plt.show()"
   ],
   "id": "9205928725c489d9",
   "outputs": [
    {
     "data": {
      "text/plain": [
       "<Figure size 640x480 with 1 Axes>"
      ],
      "image/png": "[encoded data removed]"
     },
     "metadata": {},
     "output_type": "display_data"
    }
   ],
   "execution_count": 11
  },
  {
   "metadata": {},
   "cell_type": "code",
   "outputs": [
    {
     "ename": "FileNotFoundError",
     "evalue": "No model found at output/parameter.model.ep4",
     "output_type": "error",
     "traceback": [
      "\u001B[0;31m---------------------------------------------------------------------------\u001B[0m",
      "\u001B[0;31mFileNotFoundError\u001B[0m                         Traceback (most recent call last)",
      "Cell \u001B[0;32mIn[10], line 1\u001B[0m\n\u001B[0;32m----> 1\u001B[0m train_model\u001B[38;5;241m.\u001B[39mload(\u001B[38;5;124m\"\u001B[39m\u001B[38;5;124moutput/parameter.model.ep4\u001B[39m\u001B[38;5;124m\"\u001B[39m)\n\u001B[1;32m      2\u001B[0m \u001B[38;5;28;01mfor\u001B[39;00m epoch \u001B[38;5;129;01min\u001B[39;00m \u001B[38;5;28mrange\u001B[39m(\u001B[38;5;241m1\u001B[39m):\n\u001B[1;32m      3\u001B[0m     train_model\u001B[38;5;241m.\u001B[39mtest(epoch, batch_size)\n",
      "File \u001B[0;32m~/PycharmProjects/final_project_file/BAAI/trainner.py:146\u001B[0m, in \u001B[0;36mTrainer.load\u001B[0;34m(self, file_path)\u001B[0m\n\u001B[1;32m    144\u001B[0m     \u001B[38;5;28mprint\u001B[39m(\u001B[38;5;124m\"\u001B[39m\u001B[38;5;124mModel Loaded from:\u001B[39m\u001B[38;5;124m\"\u001B[39m, file_path)\n\u001B[1;32m    145\u001B[0m \u001B[38;5;28;01melse\u001B[39;00m:\n\u001B[0;32m--> 146\u001B[0m     \u001B[38;5;28;01mraise\u001B[39;00m \u001B[38;5;167;01mFileNotFoundError\u001B[39;00m(\u001B[38;5;124mf\u001B[39m\u001B[38;5;124m\"\u001B[39m\u001B[38;5;124mNo model found at \u001B[39m\u001B[38;5;132;01m{\u001B[39;00mfile_path\u001B[38;5;132;01m}\u001B[39;00m\u001B[38;5;124m\"\u001B[39m)\n",
      "\u001B[0;31mFileNotFoundError\u001B[0m: No model found at output/parameter.model.ep4"
     ]
    }
   ],
   "execution_count": 10,
   "source": [
    "train_model.load(\"output/parameter.model.ep4\")\n",
    "for epoch in range(1):\n",
    "    train_model.test(epoch, batch_size)"
   ],
   "id": "d64441fb42994a87"
  }
 ],
 "metadata": {
  "kernelspec": {
   "display_name": "Python 3",
   "language": "python",
   "name": "python3"
  },
  "language_info": {
   "codemirror_mode": {
    "name": "ipython",
    "version": 2
   },
   "file_extension": ".py",
   "mimetype": "text/x-python",
   "name": "python",
   "nbconvert_exporter": "python",
   "pygments_lexer": "ipython2",
   "version": "2.7.6"
  }
 },
 "nbformat": 4,
 "nbformat_minor": 5
}
