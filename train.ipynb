{
 "cells": [
  {
   "metadata": {
    "ExecuteTime": {
     "end_time": "2024-07-14T19:32:46.188112Z",
     "start_time": "2024-07-14T19:32:45.861919Z"
    }
   },
   "cell_type": "code",
   "source": [
    "import dataset\n",
    "import trainner\n",
    "import model\n",
    "import lossfunction"
   ],
   "id": "6d3cd0ad572e7e74",
   "outputs": [],
   "execution_count": 2
  },
  {
   "metadata": {
    "ExecuteTime": {
     "end_time": "2024-07-14T19:32:44.196258Z",
     "start_time": "2024-07-14T19:32:43.491910Z"
    }
   },
   "cell_type": "code",
   "source": [
    "import torch\n",
    "import torch.nn as nn\n",
    "import torch.nn.functional as F\n",
    "from torch.autograd import Variable\n",
    "from torch.utils.data import Dataset, DataLoader"
   ],
   "id": "a1a52b271ff56da8",
   "outputs": [],
   "execution_count": 1
  },
  {
   "metadata": {
    "ExecuteTime": {
     "end_time": "2024-07-14T19:32:47.529616Z",
     "start_time": "2024-07-14T19:32:47.527229Z"
    }
   },
   "cell_type": "code",
   "source": [
    "\n",
    "spread_times = 3\n",
    "embedded_depth = 2  # at least 1\n",
    "vector_size = 8\n",
    "embedding_size = 64\n",
    "batch_size = 64"
   ],
   "id": "ad8e5949841ced4c",
   "outputs": [],
   "execution_count": 3
  },
  {
   "metadata": {
    "ExecuteTime": {
     "end_time": "2024-07-14T19:32:48.339361Z",
     "start_time": "2024-07-14T19:32:48.335600Z"
    }
   },
   "cell_type": "code",
   "source": [
    "train_dataset = \"data/training\"\n",
    "test_dataset = \"data/test\"\n",
    "output_path = \"output/parameter.model\""
   ],
   "id": "33b6a082569cd6ff",
   "outputs": [],
   "execution_count": 4
  },
  {
   "metadata": {
    "ExecuteTime": {
     "end_time": "2024-07-14T19:32:48.942642Z",
     "start_time": "2024-07-14T19:32:48.939834Z"
    }
   },
   "cell_type": "code",
   "source": [
    "data = dataset.GraphDataset(train_dataset)"
   ],
   "id": "72427de269da7ea7",
   "outputs": [],
   "execution_count": 5
  },
  {
   "metadata": {
    "ExecuteTime": {
     "end_time": "2024-07-14T19:32:49.542562Z",
     "start_time": "2024-07-14T19:32:49.539934Z"
    }
   },
   "cell_type": "code",
   "source": [
    "print(\"Creating Dataset\")\n",
    "train_dataset = dataset.GraphDataset(train_dataset)\n",
    "test_dataset = dataset.GraphDataset(test_dataset) if test_dataset is not None else None"
   ],
   "id": "f57ebbeee6db7f72",
   "outputs": [
    {
     "name": "stdout",
     "output_type": "stream",
     "text": [
      "Creating Dataset\n"
     ]
    }
   ],
   "execution_count": 6
  },
  {
   "metadata": {
    "ExecuteTime": {
     "end_time": "2024-07-14T19:32:50.158347Z",
     "start_time": "2024-07-14T19:32:50.155113Z"
    }
   },
   "cell_type": "code",
   "source": [
    "print(\"Creating Dataloader\")\n",
    "train_data_loader = DataLoader(train_dataset, batch_size=batch_size, num_workers=0, collate_fn=dataset.custom_collate_fn, shuffle=True)\n",
    "test_data_loader = DataLoader(test_dataset, batch_size=batch_size, num_workers=10, collate_fn=dataset.custom_collate_fn, shuffle=True) \\\n",
    "    if test_dataset is not None else None"
   ],
   "id": "b482e350a94f096a",
   "outputs": [
    {
     "name": "stdout",
     "output_type": "stream",
     "text": [
      "Creating Dataloader\n"
     ]
    }
   ],
   "execution_count": 7
  },
  {
   "metadata": {
    "ExecuteTime": {
     "end_time": "2024-07-14T19:32:50.864690Z",
     "start_time": "2024-07-14T19:32:50.860576Z"
    }
   },
   "cell_type": "code",
   "source": [
    "print(\"Building model\")\n",
    "try:\n",
    "    model = model.GraphEmbeddingNetwork(spread_times, embedded_depth, vector_size, embedding_size)\n",
    "    print(\"Model built successfully\")\n",
    "except Exception as e:\n",
    "    print(\"Error occurred while building the model:\", str(e))\n"
   ],
   "id": "e41364645e30dcd5",
   "outputs": [
    {
     "name": "stdout",
     "output_type": "stream",
     "text": [
      "Building model\n",
      "Model built successfully\n"
     ]
    }
   ],
   "execution_count": 8
  },
  {
   "metadata": {
    "ExecuteTime": {
     "end_time": "2024-07-14T19:32:53.638580Z",
     "start_time": "2024-07-14T19:32:51.912592Z"
    }
   },
   "cell_type": "code",
   "source": [
    "print(\"Creating Trainer\")\n",
    "train_model = trainner.Trainer(model, train_data_loader, test_data_loader, lossFunction=lossfunction.CosSimLoss())"
   ],
   "id": "600fe69f29ed53e1",
   "outputs": [
    {
     "name": "stdout",
     "output_type": "stream",
     "text": [
      "Creating Trainer\n",
      "CUDA available: True\n",
      "Total Parameters: 13056\n"
     ]
    }
   ],
   "execution_count": 9
  },
  {
   "metadata": {
    "ExecuteTime": {
     "end_time": "2024-07-14T19:32:59.886635Z",
     "start_time": "2024-07-14T19:32:55.721683Z"
    }
   },
   "cell_type": "code",
   "source": [
    "loss_figure = []\n",
    "print(\"Training Start\")\n",
    "epochs = 30\n",
    "for epoch in range(epochs):\n",
    "    epoch_loss= train_model.train(epoch, batch_size)\n",
    "    print(type(epoch_loss))\n",
    "    loss_figure.append(sum(epoch_loss) / len(epoch_loss))\n",
    "    train_model.save(epoch, output_path)"
   ],
   "id": "38c053ee98e4e07c",
   "outputs": [
    {
     "name": "stdout",
     "output_type": "stream",
     "text": [
      "Training Start\n"
     ]
    },
    {
     "name": "stderr",
     "output_type": "stream",
     "text": [
      "EP_train:0: 100%|| 3/3 [00:00<00:00, 11.66it/s, epoch=0, iter=2, loss:=1.61]\n"
     ]
    },
    {
     "name": "stdout",
     "output_type": "stream",
     "text": [
      "<class 'list'>\n",
      "EP:0 Model Saved on: output/parameter.model.ep0\n"
     ]
    },
    {
     "name": "stderr",
     "output_type": "stream",
     "text": [
      "EP_train:1: 100%|| 3/3 [00:00<00:00, 14.98it/s, epoch=1, iter=2, loss:=2.35]\n"
     ]
    },
    {
     "name": "stdout",
     "output_type": "stream",
     "text": [
      "<class 'list'>\n",
      "EP:1 Model Saved on: output/parameter.model.ep1\n"
     ]
    },
    {
     "name": "stderr",
     "output_type": "stream",
     "text": [
      "EP_train:2: 100%|| 3/3 [00:00<00:00, 24.27it/s, epoch=2, iter=2, loss:=2]   \n"
     ]
    },
    {
     "name": "stdout",
     "output_type": "stream",
     "text": [
      "<class 'list'>\n",
      "EP:2 Model Saved on: output/parameter.model.ep2\n"
     ]
    },
    {
     "name": "stderr",
     "output_type": "stream",
     "text": [
      "EP_train:3: 100%|| 3/3 [00:00<00:00, 22.36it/s, epoch=3, iter=2, loss:=1.82]\n"
     ]
    },
    {
     "name": "stdout",
     "output_type": "stream",
     "text": [
      "<class 'list'>\n",
      "EP:3 Model Saved on: output/parameter.model.ep3\n"
     ]
    },
    {
     "name": "stderr",
     "output_type": "stream",
     "text": [
      "EP_train:4: 100%|| 3/3 [00:00<00:00, 26.23it/s, epoch=4, iter=2, loss:=1.99]\n"
     ]
    },
    {
     "name": "stdout",
     "output_type": "stream",
     "text": [
      "<class 'list'>\n",
      "EP:4 Model Saved on: output/parameter.model.ep4\n"
     ]
    },
    {
     "name": "stderr",
     "output_type": "stream",
     "text": [
      "EP_train:5: 100%|| 3/3 [00:00<00:00, 23.42it/s, epoch=5, iter=2, loss:=2.01]\n"
     ]
    },
    {
     "name": "stdout",
     "output_type": "stream",
     "text": [
      "<class 'list'>\n",
      "EP:5 Model Saved on: output/parameter.model.ep5\n"
     ]
    },
    {
     "name": "stderr",
     "output_type": "stream",
     "text": [
      "EP_train:6: 100%|| 3/3 [00:00<00:00, 23.74it/s, epoch=6, iter=2, loss:=1.85]\n"
     ]
    },
    {
     "name": "stdout",
     "output_type": "stream",
     "text": [
      "<class 'list'>\n",
      "EP:6 Model Saved on: output/parameter.model.ep6\n"
     ]
    },
    {
     "name": "stderr",
     "output_type": "stream",
     "text": [
      "EP_train:7: 100%|| 3/3 [00:00<00:00, 22.76it/s, epoch=7, iter=2, loss:=1.54]\n"
     ]
    },
    {
     "name": "stdout",
     "output_type": "stream",
     "text": [
      "<class 'list'>\n",
      "EP:7 Model Saved on: output/parameter.model.ep7\n"
     ]
    },
    {
     "name": "stderr",
     "output_type": "stream",
     "text": [
      "EP_train:8: 100%|| 3/3 [00:00<00:00, 23.24it/s, epoch=8, iter=2, loss:=1.62]\n"
     ]
    },
    {
     "name": "stdout",
     "output_type": "stream",
     "text": [
      "<class 'list'>\n",
      "EP:8 Model Saved on: output/parameter.model.ep8\n"
     ]
    },
    {
     "name": "stderr",
     "output_type": "stream",
     "text": [
      "EP_train:9: 100%|| 3/3 [00:00<00:00, 21.14it/s, epoch=9, iter=2, loss:=2.17]\n"
     ]
    },
    {
     "name": "stdout",
     "output_type": "stream",
     "text": [
      "<class 'list'>\n",
      "EP:9 Model Saved on: output/parameter.model.ep9\n"
     ]
    },
    {
     "name": "stderr",
     "output_type": "stream",
     "text": [
      "EP_train:10: 100%|| 3/3 [00:00<00:00, 24.57it/s, epoch=10, iter=2, loss:=1.9] \n"
     ]
    },
    {
     "name": "stdout",
     "output_type": "stream",
     "text": [
      "<class 'list'>\n",
      "EP:10 Model Saved on: output/parameter.model.ep10\n"
     ]
    },
    {
     "name": "stderr",
     "output_type": "stream",
     "text": [
      "EP_train:11: 100%|| 3/3 [00:00<00:00, 25.51it/s, epoch=11, iter=2, loss:=1.61]\n"
     ]
    },
    {
     "name": "stdout",
     "output_type": "stream",
     "text": [
      "<class 'list'>\n",
      "EP:11 Model Saved on: output/parameter.model.ep11\n"
     ]
    },
    {
     "name": "stderr",
     "output_type": "stream",
     "text": [
      "EP_train:12: 100%|| 3/3 [00:00<00:00, 24.75it/s, epoch=12, iter=2, loss:=1.62]\n"
     ]
    },
    {
     "name": "stdout",
     "output_type": "stream",
     "text": [
      "<class 'list'>\n",
      "EP:12 Model Saved on: output/parameter.model.ep12\n"
     ]
    },
    {
     "name": "stderr",
     "output_type": "stream",
     "text": [
      "EP_train:13: 100%|| 3/3 [00:00<00:00, 25.16it/s, epoch=13, iter=2, loss:=1.68]\n"
     ]
    },
    {
     "name": "stdout",
     "output_type": "stream",
     "text": [
      "<class 'list'>\n",
      "EP:13 Model Saved on: output/parameter.model.ep13\n"
     ]
    },
    {
     "name": "stderr",
     "output_type": "stream",
     "text": [
      "EP_train:14: 100%|| 3/3 [00:00<00:00, 20.75it/s, epoch=14, iter=2, loss:=1.65]\n"
     ]
    },
    {
     "name": "stdout",
     "output_type": "stream",
     "text": [
      "<class 'list'>\n",
      "EP:14 Model Saved on: output/parameter.model.ep14\n"
     ]
    },
    {
     "name": "stderr",
     "output_type": "stream",
     "text": [
      "EP_train:15: 100%|| 3/3 [00:00<00:00, 23.12it/s, epoch=15, iter=2, loss:=1.55]\n"
     ]
    },
    {
     "name": "stdout",
     "output_type": "stream",
     "text": [
      "<class 'list'>\n",
      "EP:15 Model Saved on: output/parameter.model.ep15\n"
     ]
    },
    {
     "name": "stderr",
     "output_type": "stream",
     "text": [
      "EP_train:16: 100%|| 3/3 [00:00<00:00, 24.83it/s, epoch=16, iter=2, loss:=1.6] \n"
     ]
    },
    {
     "name": "stdout",
     "output_type": "stream",
     "text": [
      "<class 'list'>\n",
      "EP:16 Model Saved on: output/parameter.model.ep16\n"
     ]
    },
    {
     "name": "stderr",
     "output_type": "stream",
     "text": [
      "EP_train:17: 100%|| 3/3 [00:00<00:00, 24.21it/s, epoch=17, iter=2, loss:=1.68]\n"
     ]
    },
    {
     "name": "stdout",
     "output_type": "stream",
     "text": [
      "<class 'list'>\n",
      "EP:17 Model Saved on: output/parameter.model.ep17\n"
     ]
    },
    {
     "name": "stderr",
     "output_type": "stream",
     "text": [
      "EP_train:18: 100%|| 3/3 [00:00<00:00, 20.54it/s, epoch=18, iter=2, loss:=1.86]\n"
     ]
    },
    {
     "name": "stdout",
     "output_type": "stream",
     "text": [
      "<class 'list'>\n",
      "EP:18 Model Saved on: output/parameter.model.ep18\n"
     ]
    },
    {
     "name": "stderr",
     "output_type": "stream",
     "text": [
      "EP_train:19: 100%|| 3/3 [00:00<00:00, 27.32it/s, epoch=19, iter=2, loss:=1.55]\n"
     ]
    },
    {
     "name": "stdout",
     "output_type": "stream",
     "text": [
      "<class 'list'>\n",
      "EP:19 Model Saved on: output/parameter.model.ep19\n"
     ]
    },
    {
     "name": "stderr",
     "output_type": "stream",
     "text": [
      "EP_train:20: 100%|| 3/3 [00:00<00:00, 25.79it/s, epoch=20, iter=2, loss:=2.16]\n"
     ]
    },
    {
     "name": "stdout",
     "output_type": "stream",
     "text": [
      "<class 'list'>\n",
      "EP:20 Model Saved on: output/parameter.model.ep20\n"
     ]
    },
    {
     "name": "stderr",
     "output_type": "stream",
     "text": [
      "EP_train:21: 100%|| 3/3 [00:00<00:00, 24.81it/s, epoch=21, iter=2, loss:=1.91]\n"
     ]
    },
    {
     "name": "stdout",
     "output_type": "stream",
     "text": [
      "<class 'list'>\n",
      "EP:21 Model Saved on: output/parameter.model.ep21\n"
     ]
    },
    {
     "name": "stderr",
     "output_type": "stream",
     "text": [
      "EP_train:22: 100%|| 3/3 [00:00<00:00, 26.75it/s, epoch=22, iter=2, loss:=1.74]\n"
     ]
    },
    {
     "name": "stdout",
     "output_type": "stream",
     "text": [
      "<class 'list'>\n",
      "EP:22 Model Saved on: output/parameter.model.ep22\n"
     ]
    },
    {
     "name": "stderr",
     "output_type": "stream",
     "text": [
      "EP_train:23: 100%|| 3/3 [00:00<00:00, 23.74it/s, epoch=23, iter=2, loss:=1.55]\n"
     ]
    },
    {
     "name": "stdout",
     "output_type": "stream",
     "text": [
      "<class 'list'>\n",
      "EP:23 Model Saved on: output/parameter.model.ep23\n"
     ]
    },
    {
     "name": "stderr",
     "output_type": "stream",
     "text": [
      "EP_train:24: 100%|| 3/3 [00:00<00:00, 18.47it/s, epoch=24, iter=2, loss:=1.83]\n"
     ]
    },
    {
     "name": "stdout",
     "output_type": "stream",
     "text": [
      "<class 'list'>\n",
      "EP:24 Model Saved on: output/parameter.model.ep24\n"
     ]
    },
    {
     "name": "stderr",
     "output_type": "stream",
     "text": [
      "EP_train:25: 100%|| 3/3 [00:00<00:00, 21.28it/s, epoch=25, iter=2, loss:=1.68]\n"
     ]
    },
    {
     "name": "stdout",
     "output_type": "stream",
     "text": [
      "<class 'list'>\n",
      "EP:25 Model Saved on: output/parameter.model.ep25\n"
     ]
    },
    {
     "name": "stderr",
     "output_type": "stream",
     "text": [
      "EP_train:26: 100%|| 3/3 [00:00<00:00, 23.43it/s, epoch=26, iter=2, loss:=1.54]\n"
     ]
    },
    {
     "name": "stdout",
     "output_type": "stream",
     "text": [
      "<class 'list'>\n",
      "EP:26 Model Saved on: output/parameter.model.ep26\n"
     ]
    },
    {
     "name": "stderr",
     "output_type": "stream",
     "text": [
      "EP_train:27: 100%|| 3/3 [00:00<00:00, 21.93it/s, epoch=27, iter=2, loss:=2.16]\n"
     ]
    },
    {
     "name": "stdout",
     "output_type": "stream",
     "text": [
      "<class 'list'>\n",
      "EP:27 Model Saved on: output/parameter.model.ep27\n"
     ]
    },
    {
     "name": "stderr",
     "output_type": "stream",
     "text": [
      "EP_train:28: 100%|| 3/3 [00:00<00:00, 25.66it/s, epoch=28, iter=2, loss:=2.15]\n"
     ]
    },
    {
     "name": "stdout",
     "output_type": "stream",
     "text": [
      "<class 'list'>\n",
      "EP:28 Model Saved on: output/parameter.model.ep28\n"
     ]
    },
    {
     "name": "stderr",
     "output_type": "stream",
     "text": [
      "EP_train:29: 100%|| 3/3 [00:00<00:00, 24.48it/s, epoch=29, iter=2, loss:=1.58]"
     ]
    },
    {
     "name": "stdout",
     "output_type": "stream",
     "text": [
      "<class 'list'>\n",
      "EP:29 Model Saved on: output/parameter.model.ep29\n"
     ]
    },
    {
     "name": "stderr",
     "output_type": "stream",
     "text": [
      "\n"
     ]
    }
   ],
   "execution_count": 10
  },
  {
   "metadata": {
    "ExecuteTime": {
     "end_time": "2024-07-14T19:33:03.577966Z",
     "start_time": "2024-07-14T19:33:03.313800Z"
    }
   },
   "cell_type": "code",
   "source": [
    "import matplotlib.pyplot as plt\n",
    "plt.figure()\n",
    "plt.plot(range(epochs), loss_figure, label='Training Loss')\n",
    "plt.xlabel('Epoch')\n",
    "plt.ylabel('Loss')\n",
    "plt.title('Training Loss over Epochs')\n",
    "plt.legend()\n",
    "plt.show()"
   ],
   "id": "9205928725c489d9",
   "outputs": [
    {
     "data": {
      "text/plain": [
       "<Figure size 640x480 with 1 Axes>"
      ],
      "image/png": "[encoded data removed]"
     },
     "metadata": {},
     "output_type": "display_data"
    }
   ],
   "execution_count": 11
  },
  {
   "metadata": {
    "ExecuteTime": {
     "end_time": "2024-07-14T19:33:05.572885Z",
     "start_time": "2024-07-14T19:33:05.132456Z"
    }
   },
   "cell_type": "code",
   "source": [
    "train_model.load(\"output/parameter.model.ep4\")\n",
    "for epoch in range(1):\n",
    "    train_model.test(epoch, batch_size)"
   ],
   "id": "d64441fb42994a87",
   "outputs": [
    {
     "name": "stdout",
     "output_type": "stream",
     "text": [
      "Model Loaded from: output/parameter.model.ep4\n"
     ]
    },
    {
     "name": "stderr",
     "output_type": "stream",
     "text": [
      "EP_test:0: 100%|| 3/3 [00:00<00:00, 13.07it/s, epoch=0, iter=2, loss=2.18, recall=0.5, accuracy=0.479, precision=0.24, f1=0.324] "
     ]
    },
    {
     "name": "stdout",
     "output_type": "stream",
     "text": [
      "Test Epoch 0 - Avg Loss: 1.9675, Avg Recall: 0.5000, Avg Accuracy: 0.4792, Avg Precision: 0.2396, Avg F1: 0.3239\n"
     ]
    },
    {
     "name": "stderr",
     "output_type": "stream",
     "text": [
      "\n"
     ]
    }
   ],
   "execution_count": 12
  }
 ],
 "metadata": {
  "kernelspec": {
   "display_name": "Python 3",
   "language": "python",
   "name": "python3"
  },
  "language_info": {
   "codemirror_mode": {
    "name": "ipython",
    "version": 2
   },
   "file_extension": ".py",
   "mimetype": "text/x-python",
   "name": "python",
   "nbconvert_exporter": "python",
   "pygments_lexer": "ipython2",
   "version": "2.7.6"
  }
 },
 "nbformat": 4,
 "nbformat_minor": 5
}
